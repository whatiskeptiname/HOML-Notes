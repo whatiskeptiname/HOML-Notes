{
 "cells": [
  {
   "cell_type": "markdown",
   "id": "2fe19e4a",
   "metadata": {},
   "source": [
    "# Training Models"
   ]
  },
  {
   "cell_type": "markdown",
   "id": "3edf5659",
   "metadata": {},
   "source": [
    "In  this  chapter  we  will  start  by  looking  at  the  Linear  Regression  model,  one  of  the simplest models there is. We will discuss two very different ways to train it:\n",
    "\n",
    "- Using a direct “closed-form” equation that directly computes the model parameters  that  best  fit  the  model  to  the  training  set  (i.e.,  the  model  parameters  that minimize the cost function over the training set).\n",
    "\n",
    "- Using  an  iterative  optimization  approach  called  Gradient  Descent  (GD)  that gradually  tweaks  the  model  parameters  to  minimize  the  cost  function  over  thetraining  set,  eventually  converging  to  the  same  set  of  parameters  as  the  firstmethod. We will look at a few variants of Gradient Descent that we will use againand again when we study neural networks: Batch GD, Mini-batch GD,and Stochastic GD.\n",
    "\n",
    "Next we will look at Polynomial Regression, a more complex model that can fit non‐linear  datasets.  Since  this  model  has  more  parameters  than  Linear  Regression,  it  is more prone to overfitting the training data, so we will look at how to detect whether or not this is the case using learning curves, and then we will look at several regularization techniques that can reduce the risk of overfitting the training set. Finally,  we  will  look  at  two  more  models  that  are  commonly  used  for  classification tasks: \n",
    "\n",
    "- Logistic Regression and \n",
    "- Softmax Regression.\n",
    "\n",
    "**!!! Some values in the output may not match with the image example**"
   ]
  },
  {
   "cell_type": "markdown",
   "id": "be414a0c",
   "metadata": {},
   "source": [
    "## Linear Regression\n",
    "\n"
   ]
  },
  {
   "attachments": {
    "image1.png": {
     "image/png": "[encoded data removed]"
    }
   },
   "cell_type": "markdown",
   "id": "14fed6ef",
   "metadata": {},
   "source": [
    "The general linera regression eqn can be represented as:\n",
    "![image1.png](attachment:image1.png)"
   ]
  },
  {
   "cell_type": "markdown",
   "id": "2be8c5f1",
   "metadata": {},
   "source": [
    "Representing in vectorized form:\n",
    "\n",
    "![image.png](Images/Chapter4/Chapter4-2.png)"
   ]
  },
  {
   "cell_type": "markdown",
   "id": "ceab1c51",
   "metadata": {},
   "source": [
    "For error calculation we generally Mean Squared Error, mathematically:\n",
    "\n",
    "![image.png](Images/Chapter4/Chapter4-3.png)\n",
    "\n",
    "To  simplify  notations,  we  will  just  write  MSE(θ) instead of MSE(X, hθ)."
   ]
  },
  {
   "cell_type": "markdown",
   "id": "a86d347c",
   "metadata": {},
   "source": [
    "### The Normal Equation\n",
    "\n",
    "To find the value of θ that minimizes the cost function, there is a closed-form solution in other words, a mathematical equation that gives the result directly. This is called the Normal Equation:\n",
    "\n",
    "![image.png](Images/Chapter4/Chapter4-4.png)"
   ]
  },
  {
   "cell_type": "markdown",
   "id": "d7069862",
   "metadata": {},
   "source": [
    "Let’s generate some linear-looking data."
   ]
  },
  {
   "cell_type": "code",
   "execution_count": 1,
   "id": "0bb227ad",
   "metadata": {
    "scrolled": true
   },
   "outputs": [
    {
     "data": {
      "image/png": "[encoded data removed]",
      "text/plain": [
       "<Figure size 432x288 with 1 Axes>"
      ]
     },
     "metadata": {
      "needs_background": "light"
     },
     "output_type": "display_data"
    }
   ],
   "source": [
    "import numpy as np\n",
    "import matplotlib.pyplot as plt\n",
    "\n",
    "X = 2 * np.random.rand(100, 1)\n",
    "y = 4 + 3 * X + np.random.randn(100, 1)\n",
    "\n",
    "plt.plot(X, y, \"b.\")\n",
    "plt.show()"
   ]
  },
  {
   "cell_type": "markdown",
   "id": "11cfb756",
   "metadata": {},
   "source": [
    "Now let’s compute θ using the Normal Equation. We will use the *inv()* function from NumPy’s linear algebra module (np.linalg) to compute the inverse of a matrix, andthe *dot()* method for matrix multiplication. **!!! θ-cap is represented as θ**"
   ]
  },
  {
   "cell_type": "code",
   "execution_count": 2,
   "id": "f497bb78",
   "metadata": {},
   "outputs": [],
   "source": [
    "X_b = np.c_[np.ones((100, 1)), X] # add x0 = 1 to each instance\n",
    "theta_best = np.linalg.inv(X_b.T.dot(X_b)).dot(X_b.T).dot(y)"
   ]
  },
  {
   "cell_type": "markdown",
   "id": "03e2567a",
   "metadata": {},
   "source": [
    "The  function  that  we  used  to  generate  the  data  is  y  =  4  +  3x1  +  Gaussian  noise.  Let’s see what the equation found:"
   ]
  },
  {
   "cell_type": "code",
   "execution_count": 3,
   "id": "84c2994a",
   "metadata": {},
   "outputs": [
    {
     "data": {
      "text/plain": [
       "array([[4.1864781 ],\n",
       "       [2.79171502]])"
      ]
     },
     "execution_count": 3,
     "metadata": {},
     "output_type": "execute_result"
    }
   ],
   "source": [
    "theta_best"
   ]
  },
  {
   "cell_type": "markdown",
   "id": "2db058f2",
   "metadata": {},
   "source": [
    "We would have hoped for θ0 = 4 and θ1 = 3 instead of θ0 = 4.069 and θ1 = 2.900. Close enough, but the noise made it impossible to recover the exact parameters of the original function."
   ]
  },
  {
   "cell_type": "markdown",
   "id": "7e3d202e",
   "metadata": {},
   "source": [
    "Now, we can make predictions using θ."
   ]
  },
  {
   "cell_type": "code",
   "execution_count": 4,
   "id": "6533239b",
   "metadata": {},
   "outputs": [
    {
     "data": {
      "text/plain": [
       "array([[4.1864781 ],\n",
       "       [9.76990814]])"
      ]
     },
     "execution_count": 4,
     "metadata": {},
     "output_type": "execute_result"
    }
   ],
   "source": [
    "X_new = np.array([[0], [2]])\n",
    "X_new_b = np.c_[np.ones((2, 1)), X_new] # add x0 = 1 to each instance\n",
    "y_predict = X_new_b.dot(theta_best)\n",
    "y_predict"
   ]
  },
  {
   "cell_type": "markdown",
   "id": "a668db02",
   "metadata": {},
   "source": [
    "Let's plot the model's predictions."
   ]
  },
  {
   "cell_type": "code",
   "execution_count": 5,
   "id": "bbb653b1",
   "metadata": {},
   "outputs": [
    {
     "data": {
      "image/png": "[encoded data removed]",
      "text/plain": [
       "<Figure size 432x288 with 1 Axes>"
      ]
     },
     "metadata": {
      "needs_background": "light"
     },
     "output_type": "display_data"
    }
   ],
   "source": [
    "plt.plot(X_new, y_predict, \"r-\")\n",
    "plt.plot(X, y, \"b.\")\n",
    "plt.axis([0, 2, 0, 15])\n",
    "plt.show()"
   ]
  },
  {
   "cell_type": "markdown",
   "id": "149227fd",
   "metadata": {},
   "source": [
    "Performing Linear Regression using Scikit-Learn is simple too."
   ]
  },
  {
   "cell_type": "code",
   "execution_count": 6,
   "id": "5d3c329d",
   "metadata": {},
   "outputs": [
    {
     "data": {
      "text/plain": [
       "(array([4.1864781]), array([[2.79171502]]))"
      ]
     },
     "execution_count": 6,
     "metadata": {},
     "output_type": "execute_result"
    }
   ],
   "source": [
    "from sklearn.linear_model import LinearRegression\n",
    "\n",
    "lin_reg = LinearRegression()\n",
    "lin_reg.fit(X, y)\n",
    "lin_reg.intercept_, lin_reg.coef_"
   ]
  },
  {
   "cell_type": "markdown",
   "id": "941c06bc",
   "metadata": {},
   "source": [
    "The  *LinearRegression*  class  is  based  on  the  *scipy.linalg.lstsq()*  function  (the name stands for “least squares”), which we could call directly.|"
   ]
  },
  {
   "cell_type": "code",
   "execution_count": 7,
   "id": "fdbe45b0",
   "metadata": {
    "scrolled": true
   },
   "outputs": [
    {
     "data": {
      "text/plain": [
       "array([[4.1864781 ],\n",
       "       [2.79171502]])"
      ]
     },
     "execution_count": 7,
     "metadata": {},
     "output_type": "execute_result"
    }
   ],
   "source": [
    "theta_best_svd, residuals, rank, s = np.linalg.lstsq(X_b, y, rcond=1e-6)\n",
    "theta_best_svd"
   ]
  },
  {
   "cell_type": "markdown",
   "id": "35f06794",
   "metadata": {},
   "source": [
    "![image.png](Images/Chapter4/Chapter4-5.png)"
   ]
  },
  {
   "cell_type": "code",
   "execution_count": 8,
   "id": "7fb4a99c",
   "metadata": {},
   "outputs": [
    {
     "data": {
      "text/plain": [
       "array([[4.1864781 ],\n",
       "       [2.79171502]])"
      ]
     },
     "execution_count": 8,
     "metadata": {},
     "output_type": "execute_result"
    }
   ],
   "source": [
    "np.linalg.pinv(X_b).dot(y)"
   ]
  },
  {
   "cell_type": "markdown",
   "id": "338499cd",
   "metadata": {},
   "source": [
    "![image.png](Images/Chapter4/Chapter4-6.png)"
   ]
  },
  {
   "cell_type": "markdown",
   "id": "f0870fdb",
   "metadata": {},
   "source": [
    "### Computational Complexity\n",
    "\n",
    "![image.png](Images/Chapter4/Chapter4-7.png)"
   ]
  },
  {
   "cell_type": "markdown",
   "id": "d06386c7",
   "metadata": {},
   "source": [
    "![image.png](Images/Chapter4/Chapter4-8.png)"
   ]
  },
  {
   "cell_type": "markdown",
   "id": "ce5d30ce",
   "metadata": {},
   "source": [
    "### Gradient Descent\n",
    "\n",
    "Gradient Descent is a generic optimization algorithm capable of finding optimal solutions  to  a  wide  range  of  problems.  The  general  idea  of  Gradient  Descent  is  to  tweak parameters iteratively in order to minimize a cost function.\n",
    "<br/>\n",
    "Concretely, you start by filling θ with random values (this is called random initializa‐tion).  Then  you  improve  it  gradually,  taking  one  baby  step  at  a  time,  each  stepattempting to decrease the cost function (e.g., the MSE), until the algorithm convergesto a minimu.\n",
    "\n",
    "![image.png](Images/Chapter4/Chapter4-9.png)"
   ]
  },
  {
   "cell_type": "markdown",
   "id": "b342199e",
   "metadata": {},
   "source": [
    "Gradient Descent can sometime stuck in local minima but fortunately,  the  MSE  cost  function  for  a  Linear  Regression  model  happens  to  be  aconvex  function,  which  means  that  if  you  pick  any  two  points  on  the  curve,  the  line segment  joining  them  never  crosses  the  curve.  This  implies  that  there  are  no  local minima,  just  one  global  minimum.  It  is  also  a  continuous  function  with  a  slope  that never changes abruptly( Technically speaking, its derivative is Lipschitz continuous). These two facts have a great consequence: Gradient Descentis  guaranteed  to  approach  arbitrarily  close  the  global  minimum  (if  you  wait  long enough and if the learning rate is not too high).\n",
    "<br/>\n",
    "When  using  Gradient  Descent,  you  should  ensure  that  all  features have  a  similar  scale  (e.g.,  using  Scikit-Learn’s  StandardScalerclass), or else it will take much longer to converge."
   ]
  },
  {
   "cell_type": "markdown",
   "id": "b40c50c7",
   "metadata": {},
   "source": [
    "### Batch Gradient Descent\n",
    "\n",
    "To implement Gradient Descent, you need to compute the gradient of the cost function  with  regard  to  each  model  parameter  θj.  In  other  words,  you  need  to  calculate how much the cost function will change if you change θj just a little bit. This is calleda partial derivative. It is like asking “What is the slope of the mountain under my feet if I face east?” and then asking the same question facing north (and so on for all otherd imensions, if you can imagine a universe with more than three dimensions).\n",
    "\n",
    "![image.png](Images/Chapter4/Chapter4-10.png)"
   ]
  },
  {
   "cell_type": "markdown",
   "id": "7bf18441",
   "metadata": {},
   "source": [
    "Instead of computing these partial derivatives individually, you can use Equation below to compute them all in one go. The gradient vector, noted ∇θMSE(θ), contains all the partial derivatives of the cost function (one for each model parameter).\n",
    "\n",
    "![image.png](Images/Chapter4/Chapter4-11.png)\n",
    "\n",
    "Notice that this formula involves calculations over the full training set  X,  at  each  Gradient  Descent  step!  This  is  why  the  algorithm  is called  Batch  Gradient  Descent:  it  uses  the  whole  batch  of  training data  at  every  step  (actually,  Full  Gradient  Descent  would  probablybe a better name). As a result it is terribly slow on very large training  sets  (but  we  will  see  much  faster  Gradient  Descent  algorithmsshortly). However, Gradient Descent scales well with the number of features;  training  a  Linear  Regression  model  when  there  are  hundreds  of  thousands  of  features  is  much  faster  using  GradientDescent than using the Normal Equation or SVD decomposition.\n"
   ]
  },
  {
   "cell_type": "markdown",
   "id": "3c1446ee",
   "metadata": {},
   "source": [
    "Once you have the gradient vector, which points uphill, just go in the opposite direction  to  go  downhill.  This  means  subtracting  ∇θMSE(θ)  from  θ.  This  is  where  thelearning  rate  η  comes  into  play: multiply  the  gradient  vector  by  η  to  determine  the size of the downhill step.\n",
    "\n",
    "![image.png](Images/Chapter4/Chapter4-12.png)\n",
    "\n",
    "Let’s look at a quick implementation of this algorithm:"
   ]
  },
  {
   "cell_type": "code",
   "execution_count": 9,
   "id": "07ca96ea",
   "metadata": {},
   "outputs": [],
   "source": [
    "eta = 0.1 # learning rate\n",
    "n_iterations = 1000\n",
    "m = 100\n",
    "\n",
    "theta = np.random.randn(2, 1) # random initialization\n",
    "\n",
    "for iteration in range(n_iterations):\n",
    "    gradients = 2/m * X_b.T.dot(X_b.dot(theta) - y)\n",
    "    theta = theta - eta * gradients"
   ]
  },
  {
   "cell_type": "code",
   "execution_count": 10,
   "id": "adffc317",
   "metadata": {
    "scrolled": true
   },
   "outputs": [
    {
     "data": {
      "text/plain": [
       "array([[4.1864781 ],\n",
       "       [2.79171502]])"
      ]
     },
     "execution_count": 10,
     "metadata": {},
     "output_type": "execute_result"
    }
   ],
   "source": [
    "theta"
   ]
  },
  {
   "cell_type": "markdown",
   "id": "e7660c72",
   "metadata": {},
   "source": [
    "Hey,  that’s  exactly  what  the  Normal  Equation  found!  Gradient  Descent  worked  perfectly.  But  what  if  you  had  used  a  different  learning  rate  eta?  Figure below  shows  the first 10 steps of Gradient Descent using three different learning rates (the dashed line represents the starting point).\n",
    "\n",
    "![image.png](Images/Chapter4/Chapter4-13.png)\n",
    "\n",
    "On the left, the learning rate is too low: the algorithm will eventually reach the solution, but it will take a long time. In the middle, the learning rate looks pretty good: injust a few iterations, it has already converged to the solution. On the right, the learning  rate  is  too  high:  the  algorithm  diverges,  jumping  all  over  the  place  and  actually getting further and further away from the solution at every step.To  find  a  good  learning  rate,  you  can  use  grid  search.  However,  youmay  want  to  limit  the  number  of  iterations  so  that  grid  search  can  eliminate  models that take too long to converge. You may wonder how to set the number of iterations. If it is too low, you will still be far away from the optimal solution when the algorithm stops; but if it is too high, you will  waste  time  while  the  model  parameters  do  not  change  anymore.  A  simple  solution is to set a very large number of iterations but to interrupt the algorithm when thegradient  vector  becomes  tiny that  is,  when  its  norm  becomes  smaller  than  a  tinynumber  ε  (called  the  tolerance) because  this  happens  when  Gradient  Descent  has (almost) reached the minimum."
   ]
  },
  {
   "cell_type": "markdown",
   "id": "fef17f64",
   "metadata": {},
   "source": [
    "### Stochastic Gradient Descent\n",
    "\n",
    "The  main  problem  with  Batch  Gradient  Descent  is  the  fact  that  it  uses  the  whole training  set  to  compute  the  gradients  at  every  step,  which  makes  it  very  slow  when the  training  set  is  large.  At  the  opposite  extreme,  Stochastic  Gradient  Descent  picks  a random  instance  in  the  training  set  at  every  step  and  computes  the  gradients  based only on that single instance. Obviously, working on a single instance at a time makesthe algorithm much faster because it has very little data to manipulate at every iteration.  It  also  makes  it  possible  to  train  on  huge  training  sets,  since  only  one  instance needs  to  be  in  memory  at  each  iteration  (Stochastic  GD  can  be  implemented  as  an out-of-core algorithm). On the other hand, due to its stochastic (i.e., random) nature, this algorithm is much less regular than Batch Gradient Descent: instead of gently decreasing until it reaches the  minimum,  the  cost  function  will  bounce  up  and  down,  decreasing  only  on  average. Over time it will end up very close to the minimum, but once it gets there it will continue  to  bounce  around,  never  settling  down.  So  once  the  algorithm stops, the final parameter values are good, but not optimal.\n",
    "\n",
    "![image-2.png](Images/Chapter4/Chapter4-14.png)\n",
    "\n",
    "When the cost function is very irregular, this can actually help the algorithm  jump  out  of  local  minima,  so  Stochastic  Gradient  Descent  has  a  better chance of finding the global minimum than Batch Gradient Descent does.\n"
   ]
  },
  {
   "cell_type": "markdown",
   "id": "a79d6124",
   "metadata": {},
   "source": [
    "Therefore, randomness is good to escape from local optima, but bad because it means that the algorithm can never settle at the minimum. One solution to this dilemma isto  gradually  reduce  the  learning  rate.  The  steps  start  out  large  (which  helps  makequick  progress  and  escape  local  minima),  then  get  smaller  and  smaller,  allowing  the algorithm  to  settle  at  the  global  minimum.  This  process  is  akin  to  simulated  annealing, an algorithm inspired from the process in metallurgy of annealing, where molten metal  is  slowly  cooled  down.  The  function  that  determines  the  learning  rate  at  each iteration is called the learning schedule. If the learning rate is reduced too quickly, you may get stuck in a local minimum, or even end up frozen halfway to the minimum. If the  learning  rate  is  reduced  too  slowly,  you  may  jump  around  the  minimum  for  along time and end up with a sub optimal solution if you halt training too early.\n",
    "\n",
    "This code implements Stochastic Gradient Descent using a simple learning schedule:"
   ]
  },
  {
   "cell_type": "code",
   "execution_count": 11,
   "id": "11fa1948",
   "metadata": {},
   "outputs": [],
   "source": [
    "n_epochs = 50\n",
    "t0, t1 = 5, 50 # learning schedule hyperparameters\n",
    "\n",
    "def learning_schedule(t):\n",
    "    return t0/(t + t1)\n",
    "\n",
    "theta = np.random.randn(2, 1) # random initializaton\n",
    "\n",
    "for epoch in range(n_epochs):\n",
    "    for i in range(m):\n",
    "        random_index = np.random.randint(m)\n",
    "        xi = X_b[random_index:random_index+1]\n",
    "        yi = y[random_index:random_index+1]\n",
    "        gradients = 2 * xi.T.dot(xi.dot(theta) - yi)\n",
    "        eta = learning_schedule(epoch * m + i)\n",
    "        theta = theta - eta * gradients"
   ]
  },
  {
   "cell_type": "markdown",
   "id": "fdcb27b7",
   "metadata": {},
   "source": [
    "By  convention  we  iterate  by  rounds  of  m  iterations;  each  round  is  called  an  epoch. While the Batch Gradient Descent code iterated 1,000 times through the whole training  set,  this  code  goes  through  the  training  set  only  50  times  and  reaches  a  prettygood solution."
   ]
  },
  {
   "cell_type": "code",
   "execution_count": 12,
   "id": "6f3f64d3",
   "metadata": {},
   "outputs": [
    {
     "data": {
      "text/plain": [
       "array([[4.12859262],\n",
       "       [2.81336749]])"
      ]
     },
     "execution_count": 12,
     "metadata": {},
     "output_type": "execute_result"
    }
   ],
   "source": [
    "theta"
   ]
  },
  {
   "cell_type": "markdown",
   "id": "482edc2b",
   "metadata": {},
   "source": [
    "shows the first 20 steps of training (notice how irregular the steps are).\n",
    "\n",
    "![image.png](Images/Chapter4/Chapter4-15.png)"
   ]
  },
  {
   "cell_type": "markdown",
   "id": "7c3613fc",
   "metadata": {},
   "source": [
    "To perform Linear Regression using Stochastic GD with Scikit-Learn, you can use the SGDRegressor  class,  which  defaults  to  optimizing  the  squared  error  cost  function. The  following  code  runs  for  maximum  1,000  epochs  or  until  the  loss  drops  by  lessthan 0.001 during one epoch (max_iter=1000, tol=1e-3). It starts with a learning rate of  0.1  (eta0=0.1),  using  the  default  learning  schedule  (different  from  the  preceding one).  Lastly,  it  does  not  use  any  regularization  (penalty=None;  more  details  on  thisshortly)."
   ]
  },
  {
   "cell_type": "code",
   "execution_count": 13,
   "id": "e15ad552",
   "metadata": {},
   "outputs": [
    {
     "data": {
      "text/plain": [
       "(array([4.07222232]), array([2.86600925]))"
      ]
     },
     "execution_count": 13,
     "metadata": {},
     "output_type": "execute_result"
    }
   ],
   "source": [
    "from sklearn.linear_model import SGDRegressor\n",
    "\n",
    "sgd_reg = SGDRegressor(max_iter=1000, tol=1e-1, penalty=None, eta0=0.1)\n",
    "sgd_reg.fit(X, y.ravel())\n",
    "\n",
    "sgd_reg.intercept_, sgd_reg.coef_"
   ]
  },
  {
   "cell_type": "markdown",
   "id": "ff282c37",
   "metadata": {},
   "source": [
    "Once again the result is quite close to the reasult returned by Normal Equation."
   ]
  },
  {
   "cell_type": "markdown",
   "id": "0ea0e5b9",
   "metadata": {},
   "source": [
    "### Mini-batch Gradient Descent\n",
    "\n",
    "In Mini-batch Gradient Descent instead of computing the gradients based on the full training set(as in Batch GD) or based on just one instance (as in Stochastic GD), Mini-batch GD computes  the  gradients  on  small  random  sets  of  instances  called  mini-batches.  The main  advantage  of  Mini-batch  GD  over  Stochastic  GD  is  that  you  can  get  a  performance boost from hardware optimization of matrix operations, especially when usingGPUs."
   ]
  },
  {
   "cell_type": "markdown",
   "id": "c67e7bf2",
   "metadata": {},
   "source": [
    "Gradient Descent paths in parameter space.\n",
    "\n",
    "![image.png](Images/Chapter4/Chapter4-16.png)"
   ]
  },
  {
   "cell_type": "markdown",
   "id": "9de80464",
   "metadata": {},
   "source": [
    "Let’s compare the algorithms we’ve discussed so far for Linear Regression (recall that m is the number of training instances and n is the number of features).\n",
    "\n",
    "![image.png](Images/Chapter4/Chapter4-17.png)"
   ]
  },
  {
   "cell_type": "markdown",
   "id": "4dace60f",
   "metadata": {},
   "source": [
    "## Polynomial Regression\n",
    "\n",
    "What  if  your  data  is  more  complex  than  a  straight  line?  Surprisingly,  you  can  use  a linear  model  to  fit  non linear  data.  A  simple  way  to  do  this  is  to  add  powers  of  each feature as new features, then train a linear model on this extended set of features. This technique is called Polynomial Regression.\n",
    "\n",
    "Lets look at an example by creating datapoints of the eqn given in the fig. below:\n",
    "\n",
    "![image-2.png](Images/Chapter4/Chapter4-18.png)\n",
    "\n",
    "here:\n",
    "\n",
    "- a = 2\n",
    "- b = 1\n",
    "- c = 0.5"
   ]
  },
  {
   "cell_type": "code",
   "execution_count": 14,
   "id": "f09a0bc4",
   "metadata": {},
   "outputs": [
    {
     "data": {
      "text/plain": [
       "(array([[ 1.66264726],\n",
       "        [ 2.31258817],\n",
       "        [-1.9334203 ],\n",
       "        [-0.99380381],\n",
       "        [-0.1397375 ]]),\n",
       " array([[6.8655194 ],\n",
       "        [5.56647719],\n",
       "        [1.79968628],\n",
       "        [2.44605943],\n",
       "        [1.44533154]]))"
      ]
     },
     "execution_count": 14,
     "metadata": {},
     "output_type": "execute_result"
    }
   ],
   "source": [
    "m = 100\n",
    "X = 6 * np.random.rand(m, 1) -3\n",
    "y = 0.5 * X**2 + X + 2 + np.random.randn(m, 1)\n",
    "X[:5], y[:5]"
   ]
  },
  {
   "cell_type": "code",
   "execution_count": 15,
   "id": "d22b8103",
   "metadata": {},
   "outputs": [
    {
     "data": {
      "image/png": "[encoded data removed]",
      "text/plain": [
       "<Figure size 432x288 with 1 Axes>"
      ]
     },
     "metadata": {
      "needs_background": "light"
     },
     "output_type": "display_data"
    }
   ],
   "source": [
    "plt.plot(X, y, \"b.\")\n",
    "plt.show()"
   ]
  },
  {
   "cell_type": "markdown",
   "id": "3638d60b",
   "metadata": {},
   "source": [
    "Clearly, a straight line will never fit this data properly. So let’s use Scikit-Learn’s *PolynomialFeatures*  class  to  transform  our  training  data,  adding  the  square  (second-degree  polynomial)  of  each  feature  in  the  training  set  as  a  new  feature  (in  this  case there is just one feature)."
   ]
  },
  {
   "cell_type": "code",
   "execution_count": 16,
   "id": "a0e1823c",
   "metadata": {},
   "outputs": [
    {
     "data": {
      "text/plain": [
       "array([1.66264726, 2.76439592])"
      ]
     },
     "execution_count": 16,
     "metadata": {},
     "output_type": "execute_result"
    }
   ],
   "source": [
    "from sklearn.preprocessing import PolynomialFeatures\n",
    "\n",
    "poly_features = PolynomialFeatures(degree=2, include_bias=False)\n",
    "X_poly = poly_features.fit_transform(X)\n",
    "X_poly[0]"
   ]
  },
  {
   "cell_type": "markdown",
   "id": "120e6128",
   "metadata": {},
   "source": [
    "X_poly now contains the original feature of X plus the square of this feature. Now you can fit a LinearRegression model to this extended training data."
   ]
  },
  {
   "cell_type": "code",
   "execution_count": 17,
   "id": "330cc028",
   "metadata": {},
   "outputs": [
    {
     "data": {
      "text/plain": [
       "(array([1.85913047]), array([[1.03878058, 0.50056413]]))"
      ]
     },
     "execution_count": 17,
     "metadata": {},
     "output_type": "execute_result"
    }
   ],
   "source": [
    "lin_reg = LinearRegression()\n",
    "lin_reg.fit(X_poly, y)\n",
    "lin_reg.intercept_, lin_reg.coef_"
   ]
  },
  {
   "cell_type": "markdown",
   "id": "9736a171",
   "metadata": {},
   "source": [
    "After training the approximated values are:\n",
    "\n",
    "- a = 1.78\n",
    "- b = 0.99\n",
    "- c = 0.57\n",
    "\n",
    "Which are preety close to the original values."
   ]
  },
  {
   "cell_type": "code",
   "execution_count": 18,
   "id": "1cd233cc",
   "metadata": {},
   "outputs": [
    {
     "name": "stdout",
     "output_type": "stream",
     "text": [
      "[[4.97001359]\n",
      " [6.93845117]\n",
      " [1.72189683]\n",
      " [1.32116655]\n",
      " [1.72374817]] \n",
      "\n",
      " [[ 1.66264726]\n",
      " [ 2.31258817]\n",
      " [-1.9334203 ]\n",
      " [-0.99380381]\n",
      " [-0.1397375 ]] \n",
      "\n",
      " [[6.8655194 ]\n",
      " [5.56647719]\n",
      " [1.79968628]\n",
      " [2.44605943]\n",
      " [1.44533154]]\n"
     ]
    }
   ],
   "source": [
    "y_pred = lin_reg.predict(X_poly)\n",
    "print(y_pred[:5],\"\\n\\n\", X[:5],\"\\n\\n\", y[:5])"
   ]
  },
  {
   "cell_type": "code",
   "execution_count": 19,
   "id": "b1743ef0",
   "metadata": {},
   "outputs": [
    {
     "data": {
      "image/png": "[encoded data removed]",
      "text/plain": [
       "<Figure size 432x288 with 1 Axes>"
      ]
     },
     "metadata": {
      "needs_background": "light"
     },
     "output_type": "display_data"
    }
   ],
   "source": [
    "plt.plot(X, y, \"b.\")\n",
    "plt.plot(X, y_pred, \"r.\", label=\"Predictions\")\n",
    "plt.xlabel(\"$x_1$\", fontsize=18)\n",
    "plt.xlabel(\"$x_1$\", fontsize=18)\n",
    "plt.ylabel(\"$y$\", rotation=0, fontsize=18)\n",
    "plt.legend(loc=\"upper left\", fontsize=14)\n",
    "plt.show()"
   ]
  },
  {
   "cell_type": "markdown",
   "id": "267f8f22",
   "metadata": {},
   "source": [
    "Note that when there are multiple features, Polynomial Regression is capable of finding  relationships  between  features  (which  is  something  a  plain  Linear  Regression model  can not  do).  This  is  made  possible  by  the  fact  that  Polynomial Features  alsoadds  all  combinations  of  features  up  to  the  given  degree.  For  example,  if  there  were two  features  a  and  b,  Polynomial Features  with  degree = 3  would  not  only  add  the features a^2, a^3, b^2, and b^3, but also the combinations a^b, a^2b, and ab^2\n",
    "\n",
    "**Note: ^ Denotes exponent operator**"
   ]
  },
  {
   "cell_type": "markdown",
   "id": "039c3a87",
   "metadata": {},
   "source": [
    "## Learning Curves\n",
    "\n",
    "If  you  perform  high-degree  Polynomial  Regression,  you  will  likely  fit  the  training data much better than with plain Linear Regression. For example, Figure belw applies a  300-degree  polynomial  model  to  the  preceding  training  data,  and  compares  the result  with  a  pure  linear  model  and  a  quadratic  model  (second-degree  polynomial). Notice how the 300-degree polynomial model wiggles around to get as close as possi‐ble to the training instances."
   ]
  },
  {
   "cell_type": "code",
   "execution_count": 20,
   "id": "69edb930",
   "metadata": {},
   "outputs": [
    {
     "data": {
      "image/png": "[encoded data removed]",
      "text/plain": [
       "<Figure size 432x288 with 1 Axes>"
      ]
     },
     "metadata": {
      "needs_background": "light"
     },
     "output_type": "display_data"
    }
   ],
   "source": [
    "from sklearn.preprocessing import StandardScaler\n",
    "from sklearn.pipeline import Pipeline\n",
    "\n",
    "for style, width, degree in ((\"g-\", 1, 300), (\"b--\", 2, 2), (\"r-+\", 2, 1)):\n",
    "    polybig_features = PolynomialFeatures(degree=degree, include_bias=False)\n",
    "    std_scaler = StandardScaler()\n",
    "    lin_reg = LinearRegression()\n",
    "    polynomial_regression = Pipeline([\n",
    "            (\"poly_features\", polybig_features),\n",
    "            (\"std_scaler\", std_scaler),\n",
    "            (\"lin_reg\", lin_reg),\n",
    "        ])\n",
    "    polynomial_regression.fit(X, y)\n",
    "    y_newbig = polynomial_regression.predict(X_new)\n",
    "    plt.plot(X_new, y_newbig, style, label=str(degree), linewidth=width)\n",
    "\n",
    "plt.plot(X, y, \"b.\", linewidth=3)\n",
    "plt.legend(loc=\"upper left\")\n",
    "plt.xlabel(\"$x_1$\", fontsize=18)\n",
    "plt.ylabel(\"$y$\", rotation=0, fontsize=18)\n",
    "plt.axis([-3, 3, 0, 10])\n",
    "plt.show()"
   ]
  },
  {
   "cell_type": "markdown",
   "id": "a1a8b573",
   "metadata": {},
   "source": [
    "This  high-degree  Polynomial  Regression  model  is  severely  overfitting  the  training data,  while  the  linear  model  is  underfitting  it.  The  model  that  will  generalize  best  in this  case  is  the  quadratic  model,  which  makes  sense  because  the  data  was  generated using a quadratic model. But in general you won’t know what function generated the data,  so  how  can  you  decide  how  complex  your  model  should  be?  How  can  you  tell that your model is overfitting or underfitting the data?\n",
    "\n",
    "Cross-Validation can be used to estimate a model's generalization performance. Another way to tell is to look at the learning curves: these are plots of the model’s per‐formance  on  the  training  set  and  the  validation  set  as  a  function  of  the  training  set size (or the training iteration). To generate the plots, train the model several times on different sized subsets of the training set. The following code defines a function that, given some training data, plots the learning curves of a model."
   ]
  },
  {
   "cell_type": "code",
   "execution_count": 21,
   "id": "5da48ac8",
   "metadata": {},
   "outputs": [],
   "source": [
    "from sklearn.metrics import mean_squared_error\n",
    "from sklearn.model_selection import train_test_split\n",
    "\n",
    "def plot_learning_curves(model, X, y):\n",
    "    X_train, X_val, y_train, y_val = train_test_split(X, y, test_size=0.2)\n",
    "    train_errors, val_errors = [], []\n",
    "    for m in range(1, len(X_train)):\n",
    "        model.fit(X_train[:m], y_train[:m])\n",
    "        y_train_predict = model.predict(X_train[:m])\n",
    "        y_val_predict = model.predict(X_val)\n",
    "        train_errors.append(mean_squared_error(y_train[:m], y_train_predict))\n",
    "        val_errors.append(mean_squared_error(y_val, y_val_predict))\n",
    "    plt.plot(np.sqrt(train_errors), \"r-+\", linewidth=2, label=\"train\")\n",
    "    plt.plot(np.sqrt(val_errors), \"b-\", linewidth=3, label=\"val\")\n",
    "    plt.legend(loc=\"upper right\", fontsize=14)   # not shown in the book\n",
    "    plt.xlabel(\"Training set size\", fontsize=14) # not shown\n",
    "    plt.ylabel(\"RMSE\", fontsize=14)              # not shown"
   ]
  },
  {
   "cell_type": "code",
   "execution_count": 22,
   "id": "a526485c",
   "metadata": {},
   "outputs": [
    {
     "data": {
      "image/png": "[encoded data removed]",
      "text/plain": [
       "<Figure size 432x288 with 1 Axes>"
      ]
     },
     "metadata": {
      "needs_background": "light"
     },
     "output_type": "display_data"
    }
   ],
   "source": [
    "lin_reg = LinearRegression()\n",
    "plot_learning_curves(lin_reg, X, y)"
   ]
  },
  {
   "cell_type": "markdown",
   "id": "f59f975b",
   "metadata": {},
   "source": [
    "This model that’s underfitting deserves a bit of explanation. First, let’s look at the performance on the training data: when there are just one or two instances in the training set, the model can fit them perfectly, which is why the curve starts at zero. But as new instances are added to the training set, it becomes impossible for the model to fit the training data perfectly, both because the data is noisy and because it is not linear at  all.  So  the  error  on  the  training  data  goes  up  until  it  reaches  a  plateau,  at  whichpoint  adding  new  instances  to  the  training  set  doesn’t  make  the  average  error  much better  or  worse.\n",
    "\n",
    "Now  let’s  look  at  the  performance  of  the  model  on  the  validation data. When the model is trained on very few training instances, it is incapable of generalizing properly, which is why the validation error is initially quite big. Then, as the model  is  shown  more  training  examples,  it  learns,  and  thus  the  validation  errors lowly goes down. However, once again a straight line cannot do a good job modelingthe data, so the error ends up at a plateau, very close to the other curve. These  learning  curves  are  typical  of  a  model  that’s  underfitting.  Both  curves  have reached a plateau; they are close and fairly high.\n",
    "\n",
    "If your model is underfitting the training data, adding more training examples will not help. You need to use a more complex modelor come up with better features."
   ]
  },
  {
   "cell_type": "markdown",
   "id": "be0417fa",
   "metadata": {},
   "source": [
    "Now let’s look at the learning curves of a 10th-degree polynomial model on the same data."
   ]
  },
  {
   "cell_type": "code",
   "execution_count": 23,
   "id": "7ea1f328",
   "metadata": {},
   "outputs": [
    {
     "data": {
      "image/png": "[encoded data removed]",
      "text/plain": [
       "<Figure size 432x288 with 1 Axes>"
      ]
     },
     "metadata": {
      "needs_background": "light"
     },
     "output_type": "display_data"
    }
   ],
   "source": [
    "from sklearn.pipeline import Pipeline\n",
    "\n",
    "polynomial_regression = Pipeline([\n",
    "    (\"poly_features\", PolynomialFeatures(degree=10, include_bias=False)),\n",
    "    (\"lin_reg\", LinearRegression()),\n",
    "])\n",
    "\n",
    "plot_learning_curves(polynomial_regression, X, y)\n",
    "plt.axis([0, 80, 0, 3])           # not shown\n",
    "plt.show()                        # not shown"
   ]
  },
  {
   "cell_type": "markdown",
   "id": "f04920ed",
   "metadata": {},
   "source": [
    "These learning curves look a bit like the previous ones, but there are two very important differences:\n",
    "\n",
    "- The  error  on  the  training  data  is  much  lower  than  with the  Linear  Regression model.\n",
    "\n",
    "- There  is  a  gap  between  the  curves.  This  means  that  the  model  performs  significantly  better  on  the  training  data  than  on  the  validation  data,  which  is  the  hallmark of an overfitting model. If you used a much larger training set, however, the two curves would continue to get closer.\n",
    "\n",
    "One way to improve an overfitting model is to feed it more training data until the validation error reaches the training error."
   ]
  },
  {
   "cell_type": "markdown",
   "id": "aa2789e5",
   "metadata": {},
   "source": [
    "### The Bias/Variance Trade-off\n",
    "\n",
    "An  important  theoretical  result  of  statistics  and  Machine  Learning  is  the  fact  that  a model’s  generalization  error  can  be  expressed  as  the  sum  of  three  very  different errors:\n",
    "\n",
    "- Bias\n",
    "\n",
    "    This part of the generalization error is due to wrong assumptions, such as assuming that the data is linear when it is actually quadratic. A high-bias model is most likely to underfit the training data.\n",
    "    \n",
    "    \n",
    "- Variance \n",
    "\n",
    "    This  part  is  due  to  the  model’s  excessive  sensitivity  to  small  variations  in  thetraining data. A model with many degrees of freedom (such as a high-degree polynomial model) is likely to have high variance and thus overfit the training data.\n",
    "\n",
    "\n",
    "- Irreducible error\n",
    "\n",
    "    This  part  is  due  to  the  noisiness  of  the  data  itself.  The  only  way  to  reduce  this part of the error is to clean up the data (e.g., fix the data sources, such as broken sensors, or detect and remove outliers).\n",
    "    \n",
    "    \n",
    "Increasing a model’s complexity will typically increase its variance and reduce its bias. Conversely, reducing a model’s complexity increases its bias and reduces its variance. This is why it is called a trade-off.\n",
    "\n",
    "**Note: This notion of bias is not to be confused with the bias term of linear models.**"
   ]
  },
  {
   "cell_type": "markdown",
   "id": "d54d4cb3",
   "metadata": {},
   "source": [
    "## Regularized Linear Models\n",
    "\n",
    "A simple way to regularize a polynomial model is to reduce the number of polynomial degrees. For a linear model, regularization is typically achieved by constraining the weights ofthe model. We will now look at Ridge Regression, Lasso Regression, and Elastic Net, which implement three different ways to constrain the weights.\n",
    "\n",
    "A regression model that uses L1 regularization technique is called Lasso Regression and model which uses L2 is called Ridge Regression."
   ]
  },
  {
   "cell_type": "markdown",
   "id": "fbe72256",
   "metadata": {},
   "source": [
    "### Ridge Regression\n",
    "\n",
    "Ridge Regression (also called Tikhonov regularization) is a regularized version of Linear Regression: a regularization term equal as shown in equation below is added to the cost function.  This  forces  the  learning  algorithm  to  not  only  fit  the  data  but  also  keep  the  model weights  as  small  as  possible.  Note  that  the  regularization  term  should  only  be  added to  the  cost  function  during  training.  Once  the  model  is  trained,  you  want  to  use  the unregularized performance measure to evaluate the model’s performance.\n",
    "\n",
    "![image.png](Images/Chapter4/Chapter4-19.png)\n",
    "\n",
    "It is quite common for the cost function used during training to be different  from  the  performance  measure  used  for  testing.  Apart from regularization, another reason they might be different is that a good training   cost   function   should   have   optimization-friendly derivatives, while the performance measure used for testing shouldbe as close as possible to the final objective. For example, classifiersare  often  trained  using  a  cost  function  such  as  the  log  loss  (dis‐cussed in a moment) but evaluated using precision/recall."
   ]
  },
  {
   "cell_type": "markdown",
   "id": "e6c63c5b",
   "metadata": {},
   "source": [
    "The hyperparameter α controls how much you want to regularize the model. If α = 0,then Ridge Regression is just Linear Regression. If α is very large, then all weights endup very close to zero and the result is a flat line going through the data’s mean. The equation below presents the Ridge Regression Cost Function.\n",
    "\n",
    "![image.png](Images/Chapter4/Chapter4-20.png)\n",
    "\n",
    "Note  that  the  bias  term  θ0  is  not  regularized  (the  sum  starts  at  i  =  1,  not  0).\n",
    "\n",
    "It is common to use the notation J(θ) for cost functions that don’t have a short name."
   ]
  },
  {
   "cell_type": "markdown",
   "id": "f67eb3e9",
   "metadata": {},
   "source": [
    "It  is  important  to  scale  the  data  (e.g.,  using  a  StandardScaler)before performing Ridge Regression, as it is sensitive to the scale of the input features. This is true of most regularized models.\n",
    "\n",
    "Figure below shows several Ridge models trained on some linear data using different α values. On the left, plain Ridge models are used, leading to linear predictions. On theright,  the  data  is  first  expanded  using  PolynomialFeatures(degree=10),  then  it  isscaled using a StandardScaler, and finally the Ridge models are applied to the resulting  features:  this  is  Polynomial  Regression  with  Ridge  regularization.  Note  how increasing  α  leads  to  flatter  (i.e.,  less  extreme,  more  reasonable)  predictions,  thus reducing the model’s variance but increasing its bias.\n",
    "\n",
    "![image.png](Images/Chapter4/Chapter4-21.png)"
   ]
  },
  {
   "cell_type": "markdown",
   "id": "d86e0320",
   "metadata": {},
   "source": [
    "Equation below shows the closed-form solution, where **A** is the (n+1)*\\(n+1) identity matrix, except with a 0 in the top-left cell, corresponding to the bias term.\n",
    "\n",
    "![image.png](Images/Chapter4/Chapter4-22.png)"
   ]
  },
  {
   "cell_type": "markdown",
   "id": "ed677476",
   "metadata": {},
   "source": [
    "Here is how to perform Ridge Regression with Scikit-Learn using a closed-form solution  (a  variant  of  above equation that  uses  a  matrix  factorization  technique  by  André-Louis Cholesky)."
   ]
  },
  {
   "cell_type": "code",
   "execution_count": 24,
   "id": "089d8f41",
   "metadata": {},
   "outputs": [
    {
     "data": {
      "text/plain": [
       "array([[4.82868429]])"
      ]
     },
     "execution_count": 24,
     "metadata": {},
     "output_type": "execute_result"
    }
   ],
   "source": [
    "from sklearn.linear_model import Ridge\n",
    "\n",
    "ridge_reg = Ridge(alpha=1, solver=\"cholesky\")\n",
    "ridge_reg.fit(X, y)\n",
    "ridge_reg.predict([[1.5]])"
   ]
  },
  {
   "cell_type": "markdown",
   "id": "62a565b1",
   "metadata": {},
   "source": [
    "And using Stochastic Gradient Descent:"
   ]
  },
  {
   "cell_type": "code",
   "execution_count": 25,
   "id": "f0431f00",
   "metadata": {},
   "outputs": [
    {
     "data": {
      "text/plain": [
       "array([4.80376142])"
      ]
     },
     "execution_count": 25,
     "metadata": {},
     "output_type": "execute_result"
    }
   ],
   "source": [
    "sgd_reg = SGDRegressor(penalty=\"l2\")\n",
    "sgd_reg.fit(X, y.ravel())\n",
    "sgd_reg.predict([[1.5]])"
   ]
  },
  {
   "cell_type": "markdown",
   "id": "819959ea",
   "metadata": {},
   "source": [
    "The  penalty  hyperparameter  sets  the  type  of  regularization  term  to  use.  Specifying \"l2\"  indicates  that  you  want  SGD  to  add  a  regularization  term  to  the  cost  functionequal  to  half  the  square  of  the  ℓ2  norm  of  the  weight  vector:  this  is  simply  RidgeRegression."
   ]
  },
  {
   "cell_type": "markdown",
   "id": "a9baa33e",
   "metadata": {},
   "source": [
    "### Lasso Regression\n",
    "\n",
    "Least  Absolute  Shrinkage  and  Selection  Operator  Regression  (usually  simply  called Lasso  Regression)  is  another  regularized  version  of  Linear  Regression:  just  like  RidgeRegression, it adds a regularization term to the cost function, but it uses the ℓ1 normof the weight vector instead of half the square of the ℓ2 norm.\n",
    "\n",
    "![image.png](Images/Chapter4/Chapter4-23.png)"
   ]
  },
  {
   "cell_type": "markdown",
   "id": "b9ecb0a4",
   "metadata": {},
   "source": [
    "Shows  the  same  thing  as Figure in Ridge regression but  replaces  Ridge  models  withLasso models and uses smaller α values.\n",
    "\n",
    "![image.png](Images/Chapter4/Chapter4-24.png)\n",
    "An  important  characteristic  of  Lasso  Regression  is  that  it  tends  to  eliminate  the weights  of  the  least  important  features  (i.e.,  set  them  to  zero).  For  example,  the dashed  line  in  the  righthand  plot  in  above figure  (with  α  =  10-7)  looks  quadratic, almost  linear:  all  the  weights  for  the  high-degree  polynomial  features  are  equal  to zero.  In  other  words,  Lasso  Regression  automatically  performs  feature  selection  and outputs a sparse model (i.e., with few nonzero feature weights).You can get a sense of why this is the case by looking at Figure below: the axes repre‐sent  two  model  parameters,  and  the  background  contours  represent  different  lossfunctions.  In  the  topleft  plot,  the  contours  represent  the  ℓ1  loss  (|θ1|  +  |θ2|),  whichdrops  linearly  as  you  get  closer  to  any  axis.  For  example,  if  you  initialize  the  model parameters  to  θ1  =  2  and  θ2  =  0.5,  running  Gradient  Descent  will  decrement  both parameters equally (as represented by the dashed yellow line); therefore θ2 will reach 0  first  (since  it  was  closer  to  0  to  begin  with).  After  that,  Gradient  Descent  will  rolldown the gutter until it reaches θ1 = 0 (with a bit of bouncing around, since the gradi‐ents of ℓ1 never get close to 0: they are either –1 or 1 for each parameter). In the top-right plot, the contours represent Lasso’s cost function (i.e., an MSE cost function plusan ℓ1 loss). The small white circles show the path that Gradient Descent takes to optimize  some  model  parameters  that  were  initialized  around  θ1  =  0.25  and  θ2  =  –1: notice once again how the path quickly reaches θ2 = 0, then rolls down the gutter and ends up bouncing around the global optimum (represented by the red square). If we increased α, the global optimum would move left along the dashed yellow line, while if we decreased α, the global optimum would move right (in this example, the optimalparameters for the unregularized MSE are θ1 = 2 and θ2 = 0.5)."
   ]
  },
  {
   "cell_type": "code",
   "execution_count": 26,
   "id": "abb2d247",
   "metadata": {},
   "outputs": [],
   "source": [
    "t1a, t1b, t2a, t2b = -1, 3, -1.5, 1.5\n",
    "\n",
    "t1s = np.linspace(t1a, t1b, 500)\n",
    "t2s = np.linspace(t2a, t2b, 500)\n",
    "t1, t2 = np.meshgrid(t1s, t2s)\n",
    "T = np.c_[t1.ravel(), t2.ravel()]\n",
    "Xr = np.array([[1, 1], [1, -1], [1, 0.5]])\n",
    "yr = 2 * Xr[:, :1] + 0.5 * Xr[:, 1:]\n",
    "\n",
    "J = (1/len(Xr) * np.sum((T.dot(Xr.T) - yr.T)**2, axis=1)).reshape(t1.shape)\n",
    "\n",
    "N1 = np.linalg.norm(T, ord=1, axis=1).reshape(t1.shape)\n",
    "N2 = np.linalg.norm(T, ord=2, axis=1).reshape(t1.shape)\n",
    "\n",
    "t_min_idx = np.unravel_index(np.argmin(J), J.shape)\n",
    "t1_min, t2_min = t1[t_min_idx], t2[t_min_idx]\n",
    "\n",
    "t_init = np.array([[0.25], [-1]])"
   ]
  },
  {
   "cell_type": "code",
   "execution_count": 27,
   "id": "a14fb999",
   "metadata": {},
   "outputs": [
    {
     "data": {
      "image/png": "[encoded data removed]",
      "text/plain": [
       "<Figure size 727.2x576 with 4 Axes>"
      ]
     },
     "metadata": {
      "needs_background": "light"
     },
     "output_type": "display_data"
    }
   ],
   "source": [
    "def bgd_path(theta, X, y, l1, l2, core = 1, eta = 0.05, n_iterations = 200):\n",
    "    path = [theta]\n",
    "    for iteration in range(n_iterations):\n",
    "        gradients = core * 2/len(X) * X.T.dot(X.dot(theta) - y) + l1 * np.sign(theta) + l2 * theta\n",
    "        theta = theta - eta * gradients\n",
    "        path.append(theta)\n",
    "    return np.array(path)\n",
    "\n",
    "fig, axes = plt.subplots(2, 2, sharex=True, sharey=True, figsize=(10.1, 8))\n",
    "for i, N, l1, l2, title in ((0, N1, 2., 0, \"Lasso\"), (1, N2, 0,  2., \"Ridge\")):\n",
    "    JR = J + l1 * N1 + l2 * 0.5 * N2**2\n",
    "    \n",
    "    tr_min_idx = np.unravel_index(np.argmin(JR), JR.shape)\n",
    "    t1r_min, t2r_min = t1[tr_min_idx], t2[tr_min_idx]\n",
    "\n",
    "    levelsJ=(np.exp(np.linspace(0, 1, 20)) - 1) * (np.max(J) - np.min(J)) + np.min(J)\n",
    "    levelsJR=(np.exp(np.linspace(0, 1, 20)) - 1) * (np.max(JR) - np.min(JR)) + np.min(JR)\n",
    "    levelsN=np.linspace(0, np.max(N), 10)\n",
    "    \n",
    "    path_J = bgd_path(t_init, Xr, yr, l1=0, l2=0)\n",
    "    path_JR = bgd_path(t_init, Xr, yr, l1, l2)\n",
    "    path_N = bgd_path(np.array([[2.0], [0.5]]), Xr, yr, np.sign(l1)/3, np.sign(l2), core=0)\n",
    "\n",
    "    ax = axes[i, 0]\n",
    "    ax.grid(True)\n",
    "    ax.axhline(y=0, color='k')\n",
    "    ax.axvline(x=0, color='k')\n",
    "    ax.contourf(t1, t2, N / 2., levels=levelsN)\n",
    "    ax.plot(path_N[:, 0], path_N[:, 1], \"y--\")\n",
    "    ax.plot(0, 0, \"ys\")\n",
    "    ax.plot(t1_min, t2_min, \"ys\")\n",
    "    ax.set_title(r\"$\\ell_{}$ penalty\".format(i + 1), fontsize=16)\n",
    "    ax.axis([t1a, t1b, t2a, t2b])\n",
    "    if i == 1:\n",
    "        ax.set_xlabel(r\"$\\theta_1$\", fontsize=16)\n",
    "    ax.set_ylabel(r\"$\\theta_2$\", fontsize=16, rotation=0)\n",
    "\n",
    "    ax = axes[i, 1]\n",
    "    ax.grid(True)\n",
    "    ax.axhline(y=0, color='k')\n",
    "    ax.axvline(x=0, color='k')\n",
    "    ax.contourf(t1, t2, JR, levels=levelsJR, alpha=0.9)\n",
    "    ax.plot(path_JR[:, 0], path_JR[:, 1], \"w-o\")\n",
    "    ax.plot(path_N[:, 0], path_N[:, 1], \"y--\")\n",
    "    ax.plot(0, 0, \"ys\")\n",
    "    ax.plot(t1_min, t2_min, \"ys\")\n",
    "    ax.plot(t1r_min, t2r_min, \"rs\")\n",
    "    ax.set_title(title, fontsize=16)\n",
    "    ax.axis([t1a, t1b, t2a, t2b])\n",
    "    if i == 1:\n",
    "        ax.set_xlabel(r\"$\\theta_1$\", fontsize=16)\n",
    "        \n",
    "plt.show()"
   ]
  },
  {
   "cell_type": "markdown",
   "id": "b83ec00f",
   "metadata": {},
   "source": [
    "An  important  characteristic  of  Lasso  Regression  is  that  it  tends  to  eliminate  the weights  of  the  least  important  features  (i.e.,  set  them  to  zero).  For  example,  the dashed  line  in  the  right hand  plot  in  above figure  (with  α  =  10-7)  looks  quadratic, almost  linear:  all  the  weights  for  the  high-degree  polynomial  features  are  equal  to zero.  In  other  words,  Lasso  Regression  automatically  performs  feature  selection  and outputs a sparse model (i.e., with few non zero feature weights).You can get a sense of why this is the case by looking at Figure above: the axes represent  two  model  parameters,  and  the  background  contours  represent  different  loss functions.  In  the  top left  plot,  the  contours  represent  the  ℓ1  loss  (|θ1|  +  |θ2|),  whichdrops  linearly  as  you  get  closer  to  any  axis.  For  example,  if  you  initialize  the  model parameters  to  θ1  =  2  and  θ2  =  0.5,  running  Gradient  Descent  will  decrement  both parameters equally (as represented by the dashed yellow line); therefore θ2 will reach 0  first  (since  it  was  closer  to  0  to  begin  with).  After  that,  Gradient  Descent  will  rolldown the gutter until it reaches θ1 = 0 (with a bit of bouncing around, since the gradients of ℓ1 never get close to 0: they are either –1 or 1 for each parameter). In the top-right plot, the contours represent Lasso’s cost function (i.e., an MSE cost function plusan ℓ1 loss). The small white circles show the path that Gradient Descent takes to optimize  some  model  parameters  that  were  initialized  around  θ1  =  0.25  and  θ2  =  –1: notice once again how the path quickly reaches θ2 = 0, then rolls down the gutter and ends up bouncing around the global optimum (represented by the red square). If we increased α, the global optimum would move left along the dashed yellow line, while if we decreased α, the global optimum would move right (in this example, the optimal parameters for the unregularized MSE are θ1 = 2 and θ2 = 0.5).\n",
    "\n",
    "The  two  bottom  plots  show  the  same  thing  but  with  an  ℓ2  penalty  instead.  In  thebottom-left plot, you can see that the ℓ2 loss decreases with the distance to the origin, so Gradient Descent just takes a straight path toward that point. In the bottom-right plot, the contours represent Ridge Regression’s cost function (i.e., an MSE cost function  plus  an  ℓ2  loss).  There  are  two  main  differences  with  Lasso.  First,  the  gradients get smaller as the parameters approach the global optimum, so Gradient Descent naturally  slows  down,  which  helps  convergence  (as  there  is  no  bouncing  around).  Second, the optimal parameters (represented by the red square) get closer and closer to the origin when you increase α, but they never get eliminated entirely."
   ]
  },
  {
   "cell_type": "markdown",
   "id": "63ce4eb5",
   "metadata": {},
   "source": [
    "Lasso Regression subgradient vector is mathematically represented as:\n",
    "\n",
    "![image.png](Images/Chapter4/Chapter4-25.png)"
   ]
  },
  {
   "cell_type": "markdown",
   "id": "ee37f3f1",
   "metadata": {},
   "source": [
    "Here is a small Scikit-Learn example using the Lasso class:"
   ]
  },
  {
   "cell_type": "code",
   "execution_count": 28,
   "id": "c4f956a4",
   "metadata": {},
   "outputs": [
    {
     "data": {
      "text/plain": [
       "array([4.78478246])"
      ]
     },
     "execution_count": 28,
     "metadata": {},
     "output_type": "execute_result"
    }
   ],
   "source": [
    "from sklearn.linear_model import Lasso\n",
    "\n",
    "lasso_reg = Lasso(alpha=0.1)\n",
    "lasso_reg.fit(X, y)\n",
    "lasso_reg.predict([[1.5]])"
   ]
  },
  {
   "cell_type": "markdown",
   "id": "ae603de1",
   "metadata": {},
   "source": [
    "### Elastic Net\n",
    "\n",
    "Elastic Net is a middle ground between Ridge Regression and Lasso Regression. The regularization  term  is  a  simple  mix  of  both  Ridge  and  Lasso’s  regularization  terms, and  you  can  control  the  mix  ratio  r.  When  r  =  0,  Elastic  Net  is  equivalent  to  RidgeRegression, and when r = 1, it is equivalent to Lasso Regression.\n",
    "\n",
    "Elastic Net cost function is given as:\n",
    "\n",
    "![image.png](Images/Chapter4/Chapter4-26.png)\n",
    "\n",
    "So  when  should  you  use  plain  Linear  Regression  (i.e.,  without  any  regularization),Ridge, Lasso, or Elastic Net? It is almost always preferable to have at least a little bit of regularization, so generally you should avoid plain Linear Regression. Ridge is a good default, but if you suspect that only a few features are useful, you should prefer Lasso or Elastic Net because they tend to reduce the useless features’ weights down to zero, as  we  have  discussed.  In  general,  Elastic  Net  is  preferred  over  Lasso  because  Lasso may  behave  erratically  when  the  number  of  features  is  greater  than  the  number  of training instances or when several features are strongly correlated."
   ]
  },
  {
   "cell_type": "markdown",
   "id": "54d0d0e0",
   "metadata": {},
   "source": [
    "Here is a short example that uses Scikit-Learn’s ElasticNet (l1_ratio corresponds to the mix ratio r):"
   ]
  },
  {
   "cell_type": "code",
   "execution_count": 29,
   "id": "c3d385be",
   "metadata": {},
   "outputs": [
    {
     "data": {
      "text/plain": [
       "array([4.78783154])"
      ]
     },
     "execution_count": 29,
     "metadata": {},
     "output_type": "execute_result"
    }
   ],
   "source": [
    "from sklearn.linear_model import ElasticNet\n",
    "\n",
    "elastic_net = ElasticNet(alpha=0.1, l1_ratio=0.5)\n",
    "elastic_net.fit(X, y)\n",
    "elastic_net.predict([[1.5]])"
   ]
  },
  {
   "cell_type": "markdown",
   "id": "9b819953",
   "metadata": {},
   "source": [
    "### Early Stopping\n",
    "\n",
    "A  very  different  way  to  regularize  iterative  learning  algorithms  such  as  GradientDescent is to stop training as soon as the validation error reaches a minimum. This is called early stopping. Figure below shows a complex model (in this case, a high-degreePolynomial  Regression  model)  being  trained  with  Batch  Gradient  Descent.  As  the epochs  go  by  the  algorithm  learns,  and  its  prediction  error  (RMSE)  on  the  training set  goes  down,  along  with  its  prediction  error  on  the  validation  set.  After  a  whilethough, the validation error stops decreasing and starts to go back up. This indicates that  the  model  has  started  to  overfit  the  training  data.  With  early  stopping  you  just stop training as soon as the validation error reaches the minimum. It is such a simple and efficient regularization technique that Geoffrey Hinton called it a “beautiful free lunch.”\n",
    "\n",
    "![image.png](Images/Chapter4/Chapter4-27.png)"
   ]
  },
  {
   "cell_type": "markdown",
   "id": "30b4538f",
   "metadata": {},
   "source": [
    "Here is a basic implementation of early stopping:"
   ]
  },
  {
   "cell_type": "code",
   "execution_count": 30,
   "id": "518a7e5b",
   "metadata": {},
   "outputs": [],
   "source": [
    "from sklearn.base import clone\n",
    "\n",
    "\n",
    "np.random.seed(42)\n",
    "m = 100\n",
    "X = 6 * np.random.rand(m, 1) - 3\n",
    "y = 2 + X + 0.5 * X**2 + np.random.randn(m, 1)\n",
    "\n",
    "X_train, X_val, y_train, y_val = train_test_split(X[:50], y[:50].ravel(), test_size=0.5, random_state=10)\n",
    "\n",
    "poly_scaler = Pipeline([\n",
    "    (\"poly_features\", PolynomialFeatures(degree=90, include_bias=False)),\n",
    "    (\"std_scaler\", StandardScaler())\n",
    "])\n",
    "\n",
    "X_train_poly_scaled = poly_scaler.fit_transform(X_train)\n",
    "X_val_poly_scaled = poly_scaler.transform(X_val)\n",
    "\n",
    "sgd_reg = SGDRegressor(max_iter=1, tol=-np.infty, warm_start=True,\n",
    "                      penalty=None, learning_rate=\"constant\", eta0=0.0005)\n",
    "\n",
    "minimum_val_error = float(\"inf\")\n",
    "best_epoch = None\n",
    "best_model = None\n",
    "\n",
    "for epoch in range(1000):\n",
    "    sgd_reg.fit(X_train_poly_scaled, y_train) # continues where it left off\n",
    "    y_val_predict = sgd_reg.predict(X_val_poly_scaled)\n",
    "    val_error = mean_squared_error(y_val, y_val_predict)\n",
    "    if val_error < minimum_val_error:\n",
    "        minimum_val_error = val_error\n",
    "        best_epoch = epoch\n",
    "        best_model = clone(sgd_reg)"
   ]
  },
  {
   "cell_type": "markdown",
   "id": "c0327a0f",
   "metadata": {},
   "source": [
    "Note that with warm_start=True, when the fit() method is called it continues training where it left off, instead of restarting from scratch."
   ]
  },
  {
   "cell_type": "markdown",
   "id": "180b51c3",
   "metadata": {},
   "source": [
    "## Logistic Regression\n",
    "\n",
    "Some regression algorithms can be used for classification  (and  vice  versa).  Logistic  Regression  (also  called  Logit  Regression)  is  commonly used  to  estimate  the  probability  that  an  instance  belongs  to  a  particular  class  (e.g.,what is the probability that this email is spam?). If the estimated probability is greater than  50%,  then  the  model  predicts  that  the  instance  belongs  to  that  class  (called  the positive class, labeled “1”), and otherwise it predicts that it does not (i.e., it belongs to the negative class, labeled “0”). This makes it a binary classifier."
   ]
  },
  {
   "cell_type": "markdown",
   "id": "81af7e47",
   "metadata": {},
   "source": [
    "### Estimating Probabilities\n",
    "\n",
    "Just like a Linear Regression model, a Logistic Regression model computes a weighted sum of the input features (plus a bias term), but instead of outputting the result directly like the Linear Regression model does, it outputs the logistic of this result.\n",
    "\n",
    "Logistic Regression model estimating probability (vectorized  form):\n",
    "\n",
    "![image.png](Images/Chapter4/Chapter4-28.png)\n",
    "\n",
    "The logistic noted σ(·) is a sigmoid function (i.e., S-shaped) that outputs a number between 0 and 1. It is defined as shown in equation below.\n",
    "\n",
    "![image-2.png](Images/Chapter4/Chapter4-29.png)"
   ]
  },
  {
   "cell_type": "markdown",
   "id": "ec5b439d",
   "metadata": {},
   "source": [
    "Once  the  Logistic  Regression  model  has  estimated  the  probability  p  =  hθ(x)  that  an instance x belongs to the positive class, it can make its prediction ŷ easily.\n",
    "\n",
    "![image.png](Images/Chapter4/Chapter4-30.png)\n",
    "\n",
    "Notice that σ(t) < 0.5 when t < 0, and σ(t) ≥ 0.5 when t ≥ 0, so a Logistic Regression model predicts 1 if x⊺θ is positive and 0 if it is negative.\n",
    "\n",
    "The score t is often called the logit. The name comes from the fact that  the  logit  function,  defined  as  logit(p)  =  log(p  /  (1  –  p)),  is  the inverse of the logistic function. Indeed, if you compute the logit of the  estimated  probability  p,  you  will  find  that  the  result  is  t.  The logit  is  also  called  the  log-odds,  since  it  is  the  log  of  the  ratio between  the  estimated  probability  for  the  positive  class  and  the estimated probability for the negative class."
   ]
  },
  {
   "cell_type": "markdown",
   "id": "363e4c54",
   "metadata": {},
   "source": [
    "### Training and Cost Function\n",
    "\n",
    "Now  you  know  how  a  Logistic  Regression  model  estimates  probabilities  and  makes predictions.  But  how  is  it  trained?  The  objective  of  training  is  to  set  the  parameter vector  θ  so  that  the  model  estimates  high  probabilities  for  positive  instances  (y  =  1)and low probabilities for negative instances (y = 0). This idea is captured by the costfunction shown in equation below for a single training instance x.\n",
    "\n",
    "![image.png](Images/Chapter4/Chapter4-31.png)\n",
    "\n",
    "This cost function makes sense because –log(t) grows very large when t approaches 0, so  the  cost  will  be  large  if  the  model  estimates  a  probability  close  to  0  for  a  positive instance,  and  it  will  also  be  very  large  if  the  model  estimates  a  probability  close  to  1 for a negative instance. On the other hand, –log(t) is close to 0 when t is close to 1, so the  cost  will  be  close  to  0  if  the  estimated  probability  is  close  to  0  for  a  negative instance or close to 1 for a positive instance, which is precisely what we want."
   ]
  },
  {
   "cell_type": "markdown",
   "id": "88719cf3",
   "metadata": {},
   "source": [
    "The  cost  function  over  the  whole  training  set  is  the  average  cost  over  all  training instances.  It  can  be  written  in  a  single  expression  called  the  log  loss,  shown  in equation below:\n",
    "\n",
    "![image.png](Images/Chapter4/Chapter4-32.png)"
   ]
  },
  {
   "cell_type": "markdown",
   "id": "d2a124c9",
   "metadata": {},
   "source": [
    "The bad news is that there is no known closed-form equation to compute the value of θ  that  minimizes  this  cost  function  (there  is  no  equivalent  of  the  Normal  Equation).The good news is that this cost function is convex, so Gradient Descent (or any other optimization  algorithm)  is  guaranteed  to  find  the  global  minimum  (if  the  learning rate  is  not  too  large  and  you  wait  long  enough).  The  partial  derivatives  of  the  cost function with regard to the jth model parameter θj are given by:\n",
    "\n",
    "![image.png](Images/Chapter4/Chapter4-33.png)"
   ]
  },
  {
   "cell_type": "markdown",
   "id": "a01f7efe",
   "metadata": {},
   "source": [
    "### Decision Boundaries\n",
    "\n",
    "Let’s use the iris dataset to illustrate Logistic Regression. This is a famous dataset that contains  the  sepal  and  petal  length  and  width  of  150  iris  flowers  of  three  different species: Iris setosa, Iris versicolor, and Iris virginica.\n",
    "\n",
    "![image.png](Images/Chapter4/Chapter4-34.png)\n",
    "\n",
    "*Photos reproduced from the corresponding Wikipedia pages. Iris virginica photo by Frank Mayfield (CreativeCommons BY-SA 2.0), Iris versicolor photo by D. Gordon E. Robertson (Creative Commons BY-SA 3.0), Irissetosa photo public domain.*"
   ]
  },
  {
   "cell_type": "markdown",
   "id": "18ba2e22",
   "metadata": {},
   "source": [
    "Let’s  try  to  build  a  classifier  to  detect  the  Iris  virginica  type  based  only  on  the  petal width feature. First let’s load the data:"
   ]
  },
  {
   "cell_type": "code",
   "execution_count": 31,
   "id": "3d25bf73",
   "metadata": {},
   "outputs": [
    {
     "data": {
      "text/plain": [
       "['data',\n",
       " 'target',\n",
       " 'frame',\n",
       " 'target_names',\n",
       " 'DESCR',\n",
       " 'feature_names',\n",
       " 'filename']"
      ]
     },
     "execution_count": 31,
     "metadata": {},
     "output_type": "execute_result"
    }
   ],
   "source": [
    "from sklearn import datasets\n",
    "\n",
    "iris = datasets.load_iris()\n",
    "list(iris.keys())"
   ]
  },
  {
   "cell_type": "code",
   "execution_count": 32,
   "id": "cd2b24bb",
   "metadata": {},
   "outputs": [
    {
     "name": "stdout",
     "output_type": "stream",
     "text": [
      ".. _iris_dataset:\n",
      "\n",
      "Iris plants dataset\n",
      "--------------------\n",
      "\n",
      "**Data Set Characteristics:**\n",
      "\n",
      "    :Number of Instances: 150 (50 in each of three classes)\n",
      "    :Number of Attributes: 4 numeric, predictive attributes and the class\n",
      "    :Attribute Information:\n",
      "        - sepal length in cm\n",
      "        - sepal width in cm\n",
      "        - petal length in cm\n",
      "        - petal width in cm\n",
      "        - class:\n",
      "                - Iris-Setosa\n",
      "                - Iris-Versicolour\n",
      "                - Iris-Virginica\n",
      "                \n",
      "    :Summary Statistics:\n",
      "\n",
      "    ============== ==== ==== ======= ===== ====================\n",
      "                    Min  Max   Mean    SD   Class Correlation\n",
      "    ============== ==== ==== ======= ===== ====================\n",
      "    sepal length:   4.3  7.9   5.84   0.83    0.7826\n",
      "    sepal width:    2.0  4.4   3.05   0.43   -0.4194\n",
      "    petal length:   1.0  6.9   3.76   1.76    0.9490  (high!)\n",
      "    petal width:    0.1  2.5   1.20   0.76    0.9565  (high!)\n",
      "    ============== ==== ==== ======= ===== ====================\n",
      "\n",
      "    :Missing Attribute Values: None\n",
      "    :Class Distribution: 33.3% for each of 3 classes.\n",
      "    :Creator: R.A. Fisher\n",
      "    :Donor: Michael Marshall (MARSHALL%PLU@io.arc.nasa.gov)\n",
      "    :Date: July, 1988\n",
      "\n",
      "The famous Iris database, first used by Sir R.A. Fisher. The dataset is taken\n",
      "from Fisher's paper. Note that it's the same as in R, but not as in the UCI\n",
      "Machine Learning Repository, which has two wrong data points.\n",
      "\n",
      "This is perhaps the best known database to be found in the\n",
      "pattern recognition literature.  Fisher's paper is a classic in the field and\n",
      "is referenced frequently to this day.  (See Duda & Hart, for example.)  The\n",
      "data set contains 3 classes of 50 instances each, where each class refers to a\n",
      "type of iris plant.  One class is linearly separable from the other 2; the\n",
      "latter are NOT linearly separable from each other.\n",
      "\n",
      ".. topic:: References\n",
      "\n",
      "   - Fisher, R.A. \"The use of multiple measurements in taxonomic problems\"\n",
      "     Annual Eugenics, 7, Part II, 179-188 (1936); also in \"Contributions to\n",
      "     Mathematical Statistics\" (John Wiley, NY, 1950).\n",
      "   - Duda, R.O., & Hart, P.E. (1973) Pattern Classification and Scene Analysis.\n",
      "     (Q327.D83) John Wiley & Sons.  ISBN 0-471-22361-1.  See page 218.\n",
      "   - Dasarathy, B.V. (1980) \"Nosing Around the Neighborhood: A New System\n",
      "     Structure and Classification Rule for Recognition in Partially Exposed\n",
      "     Environments\".  IEEE Transactions on Pattern Analysis and Machine\n",
      "     Intelligence, Vol. PAMI-2, No. 1, 67-71.\n",
      "   - Gates, G.W. (1972) \"The Reduced Nearest Neighbor Rule\".  IEEE Transactions\n",
      "     on Information Theory, May 1972, 431-433.\n",
      "   - See also: 1988 MLC Proceedings, 54-64.  Cheeseman et al\"s AUTOCLASS II\n",
      "     conceptual clustering system finds 3 classes in the data.\n",
      "   - Many, many more ...\n"
     ]
    }
   ],
   "source": [
    "print(iris.DESCR)"
   ]
  },
  {
   "cell_type": "code",
   "execution_count": 33,
   "id": "9c4b19d7",
   "metadata": {},
   "outputs": [],
   "source": [
    "X = iris[\"data\"][:, 3:] # petal width\n",
    "y = (iris[\"target\"] == 2).astype(int) # 1 if Iris virginica, else 0"
   ]
  },
  {
   "cell_type": "markdown",
   "id": "b49b97dc",
   "metadata": {},
   "source": [
    "Now let's train a Logistic Regression model:"
   ]
  },
  {
   "cell_type": "code",
   "execution_count": 34,
   "id": "646fdc86",
   "metadata": {},
   "outputs": [
    {
     "data": {
      "text/plain": [
       "LogisticRegression(random_state=42)"
      ]
     },
     "execution_count": 34,
     "metadata": {},
     "output_type": "execute_result"
    }
   ],
   "source": [
    "from sklearn.linear_model import LogisticRegression\n",
    "log_reg = LogisticRegression(solver=\"lbfgs\", random_state=42)\n",
    "log_reg.fit(X, y)"
   ]
  },
  {
   "cell_type": "markdown",
   "id": "2bc0e128",
   "metadata": {},
   "source": [
    "Let’s look at the model’s estimated probabilities for flowers with petal widths varying from 0 cm to 3 cm:"
   ]
  },
  {
   "cell_type": "code",
   "execution_count": 35,
   "id": "2e590caa",
   "metadata": {},
   "outputs": [
    {
     "data": {
      "text/plain": [
       "[<matplotlib.lines.Line2D at 0x7f16ca33e7c0>]"
      ]
     },
     "execution_count": 35,
     "metadata": {},
     "output_type": "execute_result"
    },
    {
     "data": {
      "image/png": "[encoded data removed]",
      "text/plain": [
       "<Figure size 432x288 with 1 Axes>"
      ]
     },
     "metadata": {
      "needs_background": "light"
     },
     "output_type": "display_data"
    }
   ],
   "source": [
    "X_new = np.linspace(0, 2, 1000).reshape(-1, 1)\n",
    "y_proba = log_reg.predict_proba(X_new)\n",
    "\n",
    "plt.plot(X_new, y_proba[:, 1], \"g-\", linewidth=2, label=\"Iris virginica\")\n",
    "plt.plot(X_new, y_proba[:, 0], \"b--\", linewidth=2, label=\"Not Iris virginica\")"
   ]
  },
  {
   "cell_type": "markdown",
   "id": "57d8b342",
   "metadata": {},
   "source": [
    "Making the figure a bit fancier."
   ]
  },
  {
   "cell_type": "code",
   "execution_count": 36,
   "id": "cd4892ae",
   "metadata": {},
   "outputs": [
    {
     "name": "stderr",
     "output_type": "stream",
     "text": [
      "/home/susang/Documents/sunyata/self/HOML-Exercises/venv/lib/python3.9/site-packages/matplotlib/patches.py:1387: VisibleDeprecationWarning: Creating an ndarray from ragged nested sequences (which is a list-or-tuple of lists-or-tuples-or ndarrays with different lengths or shapes) is deprecated. If you meant to do this, you must specify 'dtype=object' when creating the ndarray.\n",
      "  verts = np.dot(coords, M) + (x + dx, y + dy)\n"
     ]
    },
    {
     "data": {
      "image/png": "[encoded data removed]",
      "text/plain": [
       "<Figure size 576x216 with 1 Axes>"
      ]
     },
     "metadata": {
      "needs_background": "light"
     },
     "output_type": "display_data"
    }
   ],
   "source": [
    "X_new = np.linspace(0, 3, 1000).reshape(-1, 1)\n",
    "y_proba = log_reg.predict_proba(X_new)\n",
    "decision_boundary = X_new[y_proba[:, 1] >= 0.5][0]\n",
    "\n",
    "plt.figure(figsize=(8, 3))\n",
    "plt.plot(X[y==0], y[y==0], \"bs\")\n",
    "plt.plot(X[y==1], y[y==1], \"g^\")\n",
    "plt.plot([decision_boundary, decision_boundary], [-1, 2], \"k:\", linewidth=2)\n",
    "plt.plot(X_new, y_proba[:, 1], \"g-\", linewidth=2, label=\"Iris virginica\")\n",
    "plt.plot(X_new, y_proba[:, 0], \"b--\", linewidth=2, label=\"Not Iris virginica\")\n",
    "plt.text(decision_boundary+0.02, 0.15, \"Decision  boundary\", fontsize=14, color=\"k\", ha=\"center\")\n",
    "plt.arrow(decision_boundary, 0.08, -0.3, 0, head_width=0.05, head_length=0.1, fc='b', ec='b')\n",
    "plt.arrow(decision_boundary, 0.92, 0.3, 0, head_width=0.05, head_length=0.1, fc='g', ec='g')\n",
    "plt.xlabel(\"Petal width (cm)\", fontsize=14)\n",
    "plt.ylabel(\"Probability\", fontsize=14)\n",
    "plt.legend(loc=\"center left\", fontsize=14)\n",
    "plt.axis([0, 3, -0.02, 1.02])\n",
    "plt.show()"
   ]
  },
  {
   "cell_type": "markdown",
   "id": "517ed7e7",
   "metadata": {},
   "source": [
    "The petal width of Iris virginica flowers (represented by triangles) ranges from 1.4 cm to  2.5  cm,  while  the  other  iris  flowers  (represented  by  squares)  generally  have  a smaller petal width, ranging from 0.1 cm to 1.8 cm. Notice that there is a bit of over‐lap. Above about 2 cm the classifier is highly confident that the flower is an Iris virginica  (it  outputs  a  high  probability  for  that  class),  while  below  1  cm  it  is  highly confident  that  it  is  not  an  Iris  virginica  (high  probability  for  the  “Not  Iris  virginica” class).  In  between  these  extremes,  the  classifier  is  unsure.  However,  if  you  ask  it  to predict  the  class  (using  the  predict()  method  rather  than  the  predict_proba() method), it will return whichever class is the most likely. Therefore, there is a decisionboundary  at  around  1.6  cm  where  both  probabilities  are  equal  to  50%:  if  the  petal width is higher than 1.6 cm, the classifier will predict that the flower is an Iris virgin‐ica, and otherwise it will predict that it is not (even if it is not very confident)."
   ]
  },
  {
   "cell_type": "code",
   "execution_count": 37,
   "id": "1a64d49f",
   "metadata": {},
   "outputs": [
    {
     "data": {
      "text/plain": [
       "array([1, 0])"
      ]
     },
     "execution_count": 37,
     "metadata": {},
     "output_type": "execute_result"
    }
   ],
   "source": [
    "log_reg.predict([[1.7], [1.5]])"
   ]
  },
  {
   "cell_type": "code",
   "execution_count": 38,
   "id": "f542057b",
   "metadata": {},
   "outputs": [
    {
     "data": {
      "image/png": "[encoded data removed]",
      "text/plain": [
       "<Figure size 720x288 with 1 Axes>"
      ]
     },
     "metadata": {
      "needs_background": "light"
     },
     "output_type": "display_data"
    }
   ],
   "source": [
    "from sklearn.linear_model import LogisticRegression\n",
    "\n",
    "X = iris[\"data\"][:, (2, 3)]  # petal length, petal width\n",
    "y = (iris[\"target\"] == 2).astype(int)\n",
    "\n",
    "log_reg = LogisticRegression(solver=\"lbfgs\", C=10**10, random_state=42)\n",
    "log_reg.fit(X, y)\n",
    "\n",
    "x0, x1 = np.meshgrid(\n",
    "        np.linspace(2.9, 7, 500).reshape(-1, 1),\n",
    "        np.linspace(0.8, 2.7, 200).reshape(-1, 1),\n",
    "    )\n",
    "X_new = np.c_[x0.ravel(), x1.ravel()]\n",
    "\n",
    "y_proba = log_reg.predict_proba(X_new)\n",
    "\n",
    "plt.figure(figsize=(10, 4))\n",
    "plt.plot(X[y==0, 0], X[y==0, 1], \"bs\")\n",
    "plt.plot(X[y==1, 0], X[y==1, 1], \"g^\")\n",
    "\n",
    "zz = y_proba[:, 1].reshape(x0.shape)\n",
    "contour = plt.contour(x0, x1, zz, cmap=plt.cm.brg)\n",
    "\n",
    "\n",
    "left_right = np.array([2.9, 7])\n",
    "boundary = -(log_reg.coef_[0][0] * left_right + log_reg.intercept_[0]) / log_reg.coef_[0][1]\n",
    "\n",
    "plt.clabel(contour, inline=1, fontsize=12)\n",
    "plt.plot(left_right, boundary, \"k--\", linewidth=3)\n",
    "plt.text(3.5, 1.5, \"Not Iris virginica\", fontsize=14, color=\"b\", ha=\"center\")\n",
    "plt.text(6.5, 2.3, \"Iris virginica\", fontsize=14, color=\"g\", ha=\"center\")\n",
    "plt.xlabel(\"Petal length\", fontsize=14)\n",
    "plt.ylabel(\"Petal width\", fontsize=14)\n",
    "plt.axis([2.9, 7, 0.8, 2.7])\n",
    "plt.show()"
   ]
  },
  {
   "cell_type": "markdown",
   "id": "82c7de69",
   "metadata": {},
   "source": [
    "Figure above shows the same dataset, but this time displaying two features: petal width and  length.  Once  trained,  the  Logistic  Regression  classifier  can,  based  on  these  two features, estimate the probability that a new flower is an Iris virginica. The dashed line represents the points where the model estimates a 50% probability: this is the model’s decision boundary. Note that it is a linear boundary. Each parallel line represents the points where the model outputs a specific probability, from 15% (bottom left) to 90%(top  right).  All  the  flowers  beyond  the  top right  line  have  an  over  90%  chance  of being Iris virginica, according to the model.\n",
    "\n",
    "Just like the other linear models, Logistic Regression models can be regularized using ℓ1 or ℓ2 penalties. Scikit-Learn actually adds an ℓ2 penalty by default.\n",
    "\n",
    "The  hyperparameter  controlling  the  regularization  strength  of  a Scikit-Learn  Logistic Regression  model  is  not  alpha  (as  in  other linear models), but its inverse: C. The higher the value of C, the less the model is regularized."
   ]
  },
  {
   "cell_type": "markdown",
   "id": "af6a2d81",
   "metadata": {},
   "source": [
    "## Softmax Regression\n",
    "\n",
    "The Logistic Regression model can be generalized to support multiple classes directly, without  having  to  train  and  combine  multiple  binary  classifiers. This is called Softmax Regression, or Multinomial Logistic Regression. The  idea  is  simple:  when  given  an  instance  x,  the  Softmax  Regression  model  first computes a score s<sub>k</sub>(x) for each class k, then estimates the probability of each class by applying  the  softmax  function  (also  called  the  normalized  exponential)  to  the  scores. The equation to compute s<sub>k</sub>(x) should look familiar, as it is just like the equation for Linear Regression prediction. The equation for softmax score for class k is given as:\n",
    "\n",
    "s<sub>k</sub>(X) = X<sup>T</sup>θ<sup>(k)</sup>\n",
    "\n",
    "Note that each class has its own dedicated parameter vector θ(k). All these vectors aretypically stored as rows in a parameter matrix Θ."
   ]
  },
  {
   "cell_type": "markdown",
   "id": "bd27b5dd",
   "metadata": {},
   "source": [
    "Once you have computed the score of every class for the instance x, you can estimate the  probability  p<sub>k</sub>  that  the  instance  belongs  to  class  k  by  running  the  scores  through the  softmax  function given below.  The  function  computes  the  exponential  of every score, then normalizes them (dividing by the sum of all the exponentials). The scores  are  generally  called  logits  or  log-odds  (although  they  are  actually  unnormalized log-odds).\n",
    "\n",
    "![image.png](Images/Chapter4/Chapter4-35.png)\n",
    "\n",
    "![image-2.png](Images/Chapter4/Chapter4-36.png)"
   ]
  },
  {
   "cell_type": "markdown",
   "id": "f83d3d4f",
   "metadata": {},
   "source": [
    "Just  like  the  Logistic  Regression  classifier,  the  Softmax  Regression  classifier  predicts the  class  with  the  highest  estimated  probability  (which  is  simply  the  class  with  the highest score), as shown in equation below.\n",
    "\n",
    "![image.png](Images/Chapter4/Chapter4-37.png)\n",
    "\n",
    "The argmax operator returns the value of a variable that maximizes a function. In this equation, it returns the value of k that maximizes the estimated probability σ(s(x))<sub>k</sub>\n",
    "\n",
    "The  Softmax  Regression  classifier  predicts  only  one  class  at  a  time(i.e.,  it  is  multiclass,  not  multioutput),  so  it  should  be  used  only with  mutually  exclusive  classes,  such  as  different  types  of  plants. You cannot use it to recognize multiple people in one picture."
   ]
  },
  {
   "cell_type": "markdown",
   "id": "04e75a71",
   "metadata": {},
   "source": [
    "Now  that  you  know  how  the  model  estimates  probabilities  and  makes  predictions, let’s  take  a  look  at  training.  The  objective  is  to  have  a  model  that  estimates  a  high probability  for  the  target  class  (and  consequently  a  low  probability  for  the  otherclasses).  Minimizing  the  cost  function  shown  in  Equation  below,  called  the  crossentropy, should lead to this objective because it penalizes the model when it estimatesa low probability for a target class. Cross entropy is frequently used to measure how well a set of estimated class probabilities matches the target classes. Equation for cross-entropy cost function:\n",
    "\n",
    "![image.png](Images/Chapter4/Chapter4-38.png)\n",
    "\n",
    "![image-2.png](Images/Chapter4/Chapter4-39.png)\n",
    "\n",
    "Notice that when there are just two classes (K = 2), this cost function is equivalent tothe Logistic Regression’s cost function."
   ]
  },
  {
   "cell_type": "markdown",
   "id": "fc5d54e9",
   "metadata": {},
   "source": [
    "![image-2.png](Images/Chapter4/Chapter4-40.png)\n",
    "Check this [video](https://www.youtube.com/watch?v=ErfnhcEV1O8)."
   ]
  },
  {
   "cell_type": "markdown",
   "id": "011a5434",
   "metadata": {},
   "source": [
    "The gradient vector of this cost function with regard to θ<sup>(k)</sup> is given by (Cross entropy gradient vector for class k):\n",
    "\n",
    "![image.png](Images/Chapter4/Chapter4-41.png)\n",
    "\n",
    "Now you can compute the gradient vector for every class, then use Gradient Descent(or any other optimization algorithm) to find the parameter matrix Θ that minimizes the cost function."
   ]
  },
  {
   "cell_type": "markdown",
   "id": "1dc13c30",
   "metadata": {},
   "source": [
    "Let’s  use  Softmax  Regression  to  classify  the  iris  flowers  into  all  three  classes.  Scikit-Learn’s LogisticRegression uses one-versus-the-rest by default when you train it on more than two classes, but you can set the multi_class hyperparameter to \"multinomial\" to switch it to Softmax Regression. You must also specify a solver that supports Softmax Regression, such as the \"lbfgs\" solver (see Scikit-Learn’s documentation for more details). It also applies ℓ2 regularization by default, which you can control usingthe hyperparameter C."
   ]
  },
  {
   "cell_type": "code",
   "execution_count": 39,
   "id": "ef1d9359",
   "metadata": {},
   "outputs": [
    {
     "data": {
      "text/plain": [
       "LogisticRegression(C=10, multi_class='multinomial', random_state=42)"
      ]
     },
     "execution_count": 39,
     "metadata": {},
     "output_type": "execute_result"
    }
   ],
   "source": [
    "X = iris[\"data\"][:, (2, 3)]  # petal length, petal width\n",
    "y = iris[\"target\"]\n",
    "\n",
    "softmax_reg = LogisticRegression(multi_class=\"multinomial\",solver=\"lbfgs\", C=10, random_state=42)\n",
    "softmax_reg.fit(X, y)"
   ]
  },
  {
   "cell_type": "markdown",
   "id": "81af37b8",
   "metadata": {},
   "source": [
    "So  the  next  time  you  find  an  iris  with  petals  that  are  5  cm  long  and  2  cm  wide,  you can  ask  your  model  to  tell  you  what  type  of  iris  it  is,  and  it  will  answer  Iris  virginica(class 2) with 94.2% probability (or Iris versicolor with 5.8% probability)."
   ]
  },
  {
   "cell_type": "code",
   "execution_count": 40,
   "id": "93cbd1db",
   "metadata": {},
   "outputs": [
    {
     "data": {
      "text/plain": [
       "array([2])"
      ]
     },
     "execution_count": 40,
     "metadata": {},
     "output_type": "execute_result"
    }
   ],
   "source": [
    "softmax_reg.predict([[5, 2]])"
   ]
  },
  {
   "cell_type": "code",
   "execution_count": 41,
   "id": "2220ae38",
   "metadata": {},
   "outputs": [
    {
     "data": {
      "text/plain": [
       "array([[6.38014896e-07, 5.74929995e-02, 9.42506362e-01]])"
      ]
     },
     "execution_count": 41,
     "metadata": {},
     "output_type": "execute_result"
    }
   ],
   "source": [
    "softmax_reg.predict_proba([[5, 2]])"
   ]
  },
  {
   "cell_type": "markdown",
   "id": "0cd9f43d",
   "metadata": {},
   "source": [
    "Figure below shows the resulting decision boundaries, represented by the background colors.  Notice  that  the  decision  boundaries  between  any  two  classes  are  linear.  The figure  also  shows  the  probabilities  for  the  Iris  versicolor  class,  represented  by  the curved  lines  (e.g.,  the  line  labeled  with  0.450  represents  the  45%  probability  boundary). Notice that the model can predict a class that has an estimated probability below 50%. For example, at the point where all decision boundaries meet, all classes have an equal estimated probability of 33%."
   ]
  },
  {
   "cell_type": "code",
   "execution_count": 42,
   "id": "ef8f181f",
   "metadata": {},
   "outputs": [
    {
     "data": {
      "image/png": "[encoded data removed]",
      "text/plain": [
       "<Figure size 720x288 with 1 Axes>"
      ]
     },
     "metadata": {
      "needs_background": "light"
     },
     "output_type": "display_data"
    }
   ],
   "source": [
    "x0, x1 = np.meshgrid(\n",
    "        np.linspace(0, 8, 500).reshape(-1, 1),\n",
    "        np.linspace(0, 3.5, 200).reshape(-1, 1),\n",
    "    )\n",
    "X_new = np.c_[x0.ravel(), x1.ravel()]\n",
    "\n",
    "\n",
    "y_proba = softmax_reg.predict_proba(X_new)\n",
    "y_predict = softmax_reg.predict(X_new)\n",
    "\n",
    "zz1 = y_proba[:, 1].reshape(x0.shape)\n",
    "zz = y_predict.reshape(x0.shape)\n",
    "\n",
    "plt.figure(figsize=(10, 4))\n",
    "plt.plot(X[y==2, 0], X[y==2, 1], \"g^\", label=\"Iris virginica\")\n",
    "plt.plot(X[y==1, 0], X[y==1, 1], \"bs\", label=\"Iris versicolor\")\n",
    "plt.plot(X[y==0, 0], X[y==0, 1], \"yo\", label=\"Iris setosa\")\n",
    "\n",
    "from matplotlib.colors import ListedColormap\n",
    "custom_cmap = ListedColormap(['#fafab0','#9898ff','#a0faa0'])\n",
    "\n",
    "plt.contourf(x0, x1, zz, cmap=custom_cmap)\n",
    "contour = plt.contour(x0, x1, zz1, cmap=plt.cm.brg)\n",
    "plt.clabel(contour, inline=1, fontsize=12)\n",
    "plt.xlabel(\"Petal length\", fontsize=14)\n",
    "plt.ylabel(\"Petal width\", fontsize=14)\n",
    "plt.legend(loc=\"center left\", fontsize=14)\n",
    "plt.axis([0, 8, 0, 3.5])\n",
    "plt.show()"
   ]
  }
 ],
 "metadata": {
  "interpreter": {
   "hash": "c9b08adf87d7192cfe942781fd54415438870c456d89c858e0a76f55356c9d48"
  },
  "kernelspec": {
   "display_name": "Python 3",
   "language": "python",
   "name": "python3"
  },
  "language_info": {
   "codemirror_mode": {
    "name": "ipython",
    "version": 3
   },
   "file_extension": ".py",
   "mimetype": "text/x-python",
   "name": "python",
   "nbconvert_exporter": "python",
   "pygments_lexer": "ipython3",
   "version": "3.8.8"
  }
 },
 "nbformat": 4,
 "nbformat_minor": 5
}
