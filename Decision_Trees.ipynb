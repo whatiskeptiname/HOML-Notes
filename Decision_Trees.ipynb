{
 "cells": [
  {
   "cell_type": "markdown",
   "id": "8d10cf49",
   "metadata": {},
   "source": [
    "# Decision Trees"
   ]
  },
  {
   "cell_type": "markdown",
   "id": "7d5a28f9",
   "metadata": {},
   "source": [
    "Like  SVMs,  Decision  Trees  are  versatile  Machine  Learning  algorithms  that  can  perform  both  classification  and  regression  tasks,  and  even  multioutput  tasks.  They  are powerful  algorithms,  capable  of  fitting  complex  datasets.  Decision  Trees  are  also  the  fundamental  components  of  Random  Forests,  which  are  among  the  most  powerful  Machine  Learning  algorithms  available today. In  this  chapter  we  will  start  by  discussing  how  to  train,  visualize,  and  make  predictions  with  Decision  Trees.  Then  we  will  go  through  the  CART  training  algorithmused  by  Scikit-Learn,  and  we  will  discuss  how  to  regularize  trees  and  use  them  for regression tasks. Finally, we will discuss some of the limitations of Decision Trees."
   ]
  },
  {
   "cell_type": "markdown",
   "id": "4990f643",
   "metadata": {},
   "source": [
    "## Training and Visualizing a Decision Tree\n",
    "\n",
    "To understand Decision Trees, let’s build one and take a look at how it makes predictions."
   ]
  },
  {
   "cell_type": "code",
   "execution_count": 5,
   "id": "fbbaaa57",
   "metadata": {},
   "outputs": [
    {
     "data": {
      "text/plain": [
       "DecisionTreeClassifier(max_depth=2, random_state=42)"
      ]
     },
     "execution_count": 5,
     "metadata": {},
     "output_type": "execute_result"
    }
   ],
   "source": [
    "from sklearn.datasets import load_iris\n",
    "from sklearn.tree import DecisionTreeClassifier\n",
    "\n",
    "iris = load_iris()\n",
    "X = iris.data[:, 2:] #petal length and width\n",
    "y = iris.target\n",
    "\n",
    "tree_clf = DecisionTreeClassifier(max_depth=2, random_state=42)\n",
    "tree_clf.fit(X, y)"
   ]
  },
  {
   "cell_type": "markdown",
   "id": "414d95d6",
   "metadata": {},
   "source": [
    "You  can  visualize  the  trained  Decision  Tree  by  first  using  the  export_graphviz() method to output a graph definition file called iris_tree.dot."
   ]
  },
  {
   "cell_type": "code",
   "execution_count": 15,
   "id": "71e38261",
   "metadata": {
    "scrolled": false
   },
   "outputs": [],
   "source": [
    "# setup not completed\n",
    "\n",
    "from graphviz import Source\n",
    "from sklearn.tree import export_graphviz\n",
    "import os\n",
    "\n",
    "IMAGES_PATH = os.path.join(\"/home/susang/Documents\")\n",
    "\n",
    "export_graphviz(\n",
    "        tree_clf,\n",
    "        out_file=os.path.join(IMAGES_PATH, \"iris_tree.dot\"),\n",
    "        feature_names=iris.feature_names[2:],\n",
    "        class_names=iris.target_names,\n",
    "        rounded=True,\n",
    "        filled=True\n",
    "    )\n",
    "\n",
    "# Source.from_file(os.path.join(IMAGES_PATH, \"iris_tree.dot\"))"
   ]
  },
  {
   "cell_type": "markdown",
   "id": "fc1fed66",
   "metadata": {},
   "source": [
    "Then you can use the dot command-line tool from the Graphviz package to convert this  .dot  file  to  a  variety  of  formats,  such  as  PDF  or  PNG. This  command  line  converts the .dot file to a .png image file.\n",
    "\n",
    "$ dot -Tpng iris_tree.dot -o iris_tree.png"
   ]
  },
  {
   "cell_type": "code",
   "execution_count": null,
   "id": "aeee944c",
   "metadata": {},
   "outputs": [],
   "source": []
  }
 ],
 "metadata": {
  "kernelspec": {
   "display_name": "Python 3 (ipykernel)",
   "language": "python",
   "name": "python3"
  },
  "language_info": {
   "codemirror_mode": {
    "name": "ipython",
    "version": 3
   },
   "file_extension": ".py",
   "mimetype": "text/x-python",
   "name": "python",
   "nbconvert_exporter": "python",
   "pygments_lexer": "ipython3",
   "version": "3.9.6"
  }
 },
 "nbformat": 4,
 "nbformat_minor": 5
}
