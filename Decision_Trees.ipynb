{
 "cells": [
  {
   "cell_type": "markdown",
   "id": "3b2e260b",
   "metadata": {},
   "source": [
    "# Decision Trees"
   ]
  },
  {
   "cell_type": "markdown",
   "id": "3559d1c7",
   "metadata": {},
   "source": [
    "Like  SVMs,  Decision  Trees  are  versatile  Machine  Learning  algorithms  that  can  perform  both  classification  and  regression  tasks,  and  even  multioutput  tasks.  They  are powerful  algorithms,  capable  of  fitting  complex  datasets.  Decision  Trees  are  also  the  fundamental  components  of  Random  Forests,  which  are  among  the  most  powerful  Machine  Learning  algorithms  available today. In  this  chapter  we  will  start  by  discussing  how  to  train,  visualize,  and  make  predictions  with  Decision  Trees.  Then  we  will  go  through  the  CART  training  algorithmused  by  Scikit-Learn,  and  we  will  discuss  how  to  regularize  trees  and  use  them  for regression tasks. Finally, we will discuss some of the limitations of Decision Trees."
   ]
  },
  {
   "cell_type": "markdown",
   "id": "fe3085e9",
   "metadata": {},
   "source": [
    "## Training and Visualizing a Decision Tree\n",
    "\n",
    "To understand Decision Trees, let’s build one and take a look at how it makes predictions."
   ]
  },
  {
   "cell_type": "code",
   "execution_count": null,
   "id": "19dc0f59",
   "metadata": {},
   "outputs": [],
   "source": [
    "from sklearn.datasets import load_iris\n",
    "from sklearn.tree import DecisionTreeClassifier\n",
    "\n",
    "iris = load_iris()\n",
    "X = iris."
   ]
  }
 ],
 "metadata": {
  "kernelspec": {
   "display_name": "Python 3 (ipykernel)",
   "language": "python",
   "name": "python3"
  },
  "language_info": {
   "codemirror_mode": {
    "name": "ipython",
    "version": 3
   },
   "file_extension": ".py",
   "mimetype": "text/x-python",
   "name": "python",
   "nbconvert_exporter": "python",
   "pygments_lexer": "ipython3",
   "version": "3.9.6"
  }
 },
 "nbformat": 4,
 "nbformat_minor": 5
}
