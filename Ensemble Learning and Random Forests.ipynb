{
 "cells": [
  {
   "cell_type": "markdown",
   "id": "81db8e56",
   "metadata": {},
   "source": [
    "### Ensemble Learning and Random Forests\n",
    "\n",
    "Suppose you pose a complex question to thousands of random people, then aggregate their  answers.  In  many  cases  you  will  find  that  this  aggregated  answer  is  better  than an expert’s answer. This is called the wisdom of the crowd. Similarly, if you aggregate the  predictions  of  a  group  of  predictors  (such  as  classifiers  or  regressors),  you  will often  get  better  predictions  than  with  the  best  individual  predictor.  A  group  of  predictors is called an ensemble; thus, this technique is called Ensemble Learning, and an Ensemble Learning algorithm is called an Ensemble method. As an example of an Ensemble method, you can train a group of Decision Tree classifiers, each on a different random subset of the training set. To make predictions, you obtain  the  predictions  of  all  the  individual  trees,  then  predict  the  class  that  gets  the most votes. Such an ensemble of Decision Trees is called  a  Random  Forest,  and  despite  its  simplicity,  this  is  one  of  the  most  powerfulMachine Learning algorithms available today. You  will  often  use  Ensemble  methods  near  the  end  of  aproject, once you have already built a few good predictors, to combine them into an even  better  predictor.  In  fact,  the  winning  solutions  in  Machine  Learning  competitions  often  involve  several  Ensemble  methods  (most  famously  in  the  Netflix  Prize competition). In  this  chapter  we  will  discuss  the  most  popular  Ensemble  methods,  including  bagging, boosting, and stacking. We will also explore Random Forests."
   ]
  },
  {
   "cell_type": "markdown",
   "id": "b2d6b893",
   "metadata": {},
   "source": []
  }
 ],
 "metadata": {
  "kernelspec": {
   "display_name": "Python 3.9.6 64-bit ('venv': venv)",
   "language": "python",
   "name": "python396jvsc74a57bd0c9b08adf87d7192cfe942781fd54415438870c456d89c858e0a76f55356c9d48"
  },
  "language_info": {
   "codemirror_mode": {
    "name": "ipython",
    "version": 3
   },
   "file_extension": ".py",
   "mimetype": "text/x-python",
   "name": "python",
   "nbconvert_exporter": "python",
   "pygments_lexer": "ipython3",
   "version": "3.9.6"
  }
 },
 "nbformat": 4,
 "nbformat_minor": 5
}
