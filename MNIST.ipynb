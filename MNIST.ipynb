{
 "cells": [
  {
   "cell_type": "markdown",
   "id": "a2dc43b5",
   "metadata": {},
   "source": [
    "# MNIST\n"
   ]
  },
  {
   "cell_type": "markdown",
   "id": "e6886204",
   "metadata": {},
   "source": [
    "In this project we will be using The MNISt dataset, which is a set of 70,000 small images of digits handwritten by high  school  students  and  employees  of  the  US  Cen‐sus Bureau. Each image is labeled with the digit it represents. This set has been stud‐ied  so  much  that  it  is  often  called  the  “hello  world”  of  Machine  Learning.\n",
    "</br>\n",
    "Scikit-Learn provides many helper functions to download popular datasets. MNIST isone of them. The following code fetches the MNIST dataset."
   ]
  },
  {
   "cell_type": "code",
   "execution_count": 17,
   "id": "efb3847e",
   "metadata": {},
   "outputs": [
    {
     "data": {
      "text/plain": [
       "dict_keys(['data', 'target', 'frame', 'categories', 'feature_names', 'target_names', 'DESCR', 'details', 'url'])"
      ]
     },
     "execution_count": 17,
     "metadata": {},
     "output_type": "execute_result"
    }
   ],
   "source": [
    "from sklearn.datasets import fetch_openml\n",
    "\n",
    "mnist = fetch_openml('mnist_784', version=1)\n",
    "mnist.keys()"
   ]
  },
  {
   "cell_type": "markdown",
   "id": "71792d29",
   "metadata": {},
   "source": [
    "Datasets loaded by Scikit-Learn generally have a similar dictionary structure, includ‐ing the following:\n",
    "- A DESCR key describing the dataset\n",
    "- A  data  key  containing  an  array  with  one  row  per  instance  and  one  column  perfeature\n",
    "- A target key containing an array with the labels"
   ]
  },
  {
   "cell_type": "code",
   "execution_count": 66,
   "id": "d7460fb7",
   "metadata": {},
   "outputs": [
    {
     "name": "stdout",
     "output_type": "stream",
     "text": [
      "(70000, 784)\n",
      "(70000,)\n"
     ]
    }
   ],
   "source": [
    "X, y = mnist[\"data\"], mnist[\"target\"]\n",
    "\n",
    "# this is different from the book (due to version mismatch of sklearn)\n",
    "# The dataframe has to be changed to numpy array for further calculation\n",
    "X = X.to_numpy() \n",
    "y = y.to_numpy()\n",
    "print(X.shape)\n",
    "print(y.shape)\n"
   ]
  },
  {
   "cell_type": "markdown",
   "id": "4c148243",
   "metadata": {},
   "source": [
    "There are 70,000 images, and each image has 784 features. This is because each imageis  28  ×  28  pixels,  and  each  feature  simply  represents  one  pixel’s  intensity,  from  0 (white) to 255 (black). Let’s take a peek at one digit from the dataset. All we need to do  is  grab  an  instance’s  feature  vector,  reshape  it  to  a  28  ×  28  array,  and  display  it using Matplotlib’s *imshow()* function."
   ]
  },
  {
   "cell_type": "code",
   "execution_count": 67,
   "id": "9c220b8a",
   "metadata": {},
   "outputs": [
    {
     "data": {
      "image/png": "[encoded data removed]",
      "text/plain": [
       "<Figure size 432x288 with 1 Axes>"
      ]
     },
     "metadata": {
      "needs_background": "light"
     },
     "output_type": "display_data"
    },
    {
     "name": "stdout",
     "output_type": "stream",
     "text": [
      "5\n"
     ]
    }
   ],
   "source": [
    "import matplotlib as mlp\n",
    "import matplotlib.pyplot as plt\n",
    "import numpy as np\n",
    "\n",
    "some_digit = X[0]\n",
    "some_digit_image = some_digit.reshape(28, 28)\n",
    "\n",
    "plt.imshow(some_digit_image, cmap=\"binary\")\n",
    "plt.axis(\"off\")\n",
    "plt.show()\n",
    "print(y[0])"
   ]
  },
  {
   "cell_type": "markdown",
   "id": "42f1d8a1",
   "metadata": {},
   "source": [
    "The y label is string, lets change it to integer."
   ]
  },
  {
   "cell_type": "code",
   "execution_count": 68,
   "id": "b4a2e2b0",
   "metadata": {},
   "outputs": [],
   "source": [
    "y = y.astype(np.uint8)"
   ]
  },
  {
   "cell_type": "markdown",
   "id": "0c2f5599",
   "metadata": {},
   "source": [
    "The MNIST dataset is actually already split into a training set (the first 60,000images) and a test set (the last 10,000 images).\n",
    "</br>\n",
    "The training set is already shuffled for us, which is good because this guarantees that all cross-validation folds will be similar (we don’t want one fold to be missing some digits). Moreover, some learning algorithms are sensitive to the order of the training instances, and they perform poorly if they get many similar instances in a row. Shuffling the dataset ensures that this won’t happen"
   ]
  },
  {
   "cell_type": "code",
   "execution_count": 69,
   "id": "3043f0ef",
   "metadata": {},
   "outputs": [],
   "source": [
    "\n",
    "X_train, X_test, y_train, y_test = X[:60000], X[60000:], y[:60000], y[60000:]"
   ]
  },
  {
   "cell_type": "markdown",
   "id": "366f8c94",
   "metadata": {},
   "source": [
    "## Training a Binary Classifier\n",
    "\n",
    "Let’s  simplify  the  problem  for  now  and  only  try  to  identify  one  digit for  example, the  number  5.  This  “5-detector”  will  be  an  example  of  a  binary  classifier,  capable  of distinguishing between just two classes, 5 and not-5. Let’s create the target vectors for this classification task"
   ]
  },
  {
   "cell_type": "code",
   "execution_count": 70,
   "id": "edf5b79e",
   "metadata": {},
   "outputs": [],
   "source": [
    "y_train_5 = (y_train == 5) # True for all 5s, False for all other digits\n",
    "y_test_5 = (y_test == 5)"
   ]
  },
  {
   "cell_type": "markdown",
   "id": "ecca34bc",
   "metadata": {},
   "source": [
    "Now let’s pick a classifier and train it. A good place to start is with a Stochastic Gradient  Descent  (SGD)  classifier,  using  Scikit-Learn’s  SGDClassifier  class.  This  classifier has  the  advantage  of  being  capable  of  handling  very  large  datasets  efficiently.  This  is in  part  because  SGD  deals  with  training  instances  independently,  one  at  a  time (which also makes SGD well suited for online learning), as we will see later. Let’s create an SGDClassifier and train it on the whole training set."
   ]
  },
  {
   "cell_type": "code",
   "execution_count": 71,
   "id": "c6ede5bb",
   "metadata": {},
   "outputs": [
    {
     "data": {
      "text/plain": [
       "SGDClassifier(random_state=42)"
      ]
     },
     "execution_count": 71,
     "metadata": {},
     "output_type": "execute_result"
    }
   ],
   "source": [
    "from sklearn.linear_model import SGDClassifier\n",
    "\n",
    "sgd_clf = SGDClassifier(random_state=42)\n",
    "sgd_clf.fit(X_train, y_train_5)"
   ]
  },
  {
   "cell_type": "markdown",
   "id": "0c9c93e0",
   "metadata": {},
   "source": [
    "Now we can use it to detect images of the number 5."
   ]
  },
  {
   "cell_type": "code",
   "execution_count": 72,
   "id": "638b5a83",
   "metadata": {},
   "outputs": [
    {
     "data": {
      "text/plain": [
       "array([ True])"
      ]
     },
     "execution_count": 72,
     "metadata": {},
     "output_type": "execute_result"
    }
   ],
   "source": [
    "sgd_clf.predict([some_digit])"
   ]
  },
  {
   "cell_type": "markdown",
   "id": "c5ff9fe3",
   "metadata": {},
   "source": [
    "The prediction was indeed right as we have used *some_digit* which is variable with value 5."
   ]
  },
  {
   "cell_type": "markdown",
   "id": "3a3604dc",
   "metadata": {},
   "source": [
    "## Performance Measures\n",
    "\n",
    "Evaluating a classifier is often significantly trickier than evaluating a regressor, so we will  spend  a  large  part  of  this  chapter  on  this  topic."
   ]
  },
  {
   "cell_type": "markdown",
   "id": "95d1d6cb",
   "metadata": {},
   "source": [
    "### Measuring Accuracy Using Cross-Validation\n",
    "\n",
    "Occasionally we will need more control over the cross-validation process than what Scikit-Learn provides off the shelf. In these cases, we can implement cross-validation ourself. The   following   code   does   roughly   the   same   thing   as   Scikit-Learns *cross_val_score()* function, and it prints the same result.\n",
    "</br>\n",
    "The  *StratifiedKFold*  class  performs  stratified  sampling  (as  explained  in  Chapter  2) to produce folds that contain a representative ratio of each class. At each iteration thecode creates a clone of the classifier, trains that clone on the training folds, and makespredictions  on  the  test  fold.  Then  it  counts  the  number  of  correct  predictions  andoutputs the ratio of correct predictions."
   ]
  },
  {
   "cell_type": "code",
   "execution_count": null,
   "id": "96bbf3a1",
   "metadata": {},
   "outputs": [
    {
     "name": "stdout",
     "output_type": "stream",
     "text": [
      "0.9669\n",
      "0.91625\n"
     ]
    }
   ],
   "source": [
    "from sklearn.model_selection import StratifiedKFold\n",
    "from sklearn.base import clone\n",
    "\n",
    "skfolds = StratifiedKFold(n_splits=3, random_state=42, shuffle=True)\n",
    "\n",
    "for train_index, test_index in skfolds.split(X_train, y_train_5):\n",
    "    clone_clf = clone(sgd_clf)\n",
    "    X_train_folds = X_train[train_index]\n",
    "    y_train_folds = y_train_5[train_index]\n",
    "    X_test_fold = X_train[test_index]\n",
    "    y_test_fold = y_train_5[test_index]\n",
    "    \n",
    "    clone_clf.fit(X_train_folds, y_train_folds)\n",
    "    y_pred = clone_clf.predict(X_test_fold)\n",
    "    n_correct = sum(y_pred == y_test_fold)\n",
    "    print(n_correct/len(y_pred)) \n",
    "    "
   ]
  },
  {
   "cell_type": "code",
   "execution_count": null,
   "id": "9d780c0f",
   "metadata": {},
   "outputs": [],
   "source": []
  }
 ],
 "metadata": {
  "kernelspec": {
   "display_name": "Python 3.9.6 64-bit ('venv': venv)",
   "language": "python",
   "name": "python396jvsc74a57bd0c9b08adf87d7192cfe942781fd54415438870c456d89c858e0a76f55356c9d48"
  },
  "language_info": {
   "codemirror_mode": {
    "name": "ipython",
    "version": 3
   },
   "file_extension": ".py",
   "mimetype": "text/x-python",
   "name": "python",
   "nbconvert_exporter": "python",
   "pygments_lexer": "ipython3",
   "version": "3.9.6"
  }
 },
 "nbformat": 4,
 "nbformat_minor": 5
}
